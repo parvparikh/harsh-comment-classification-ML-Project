{
 "cells": [
  {
   "cell_type": "code",
   "execution_count": 1,
   "metadata": {},
   "outputs": [
    {
     "name": "stdout",
     "output_type": "stream",
     "text": [
      "Requirement already satisfied: imblearn in c:\\users\\asus\\anaconda3\\lib\\site-packages (0.0)\n",
      "Requirement already satisfied: imbalanced-learn in c:\\users\\asus\\anaconda3\\lib\\site-packages (from imblearn) (0.9.0)\n",
      "Requirement already satisfied: numpy>=1.14.6 in c:\\users\\asus\\anaconda3\\lib\\site-packages (from imbalanced-learn->imblearn) (1.20.1)\n",
      "Requirement already satisfied: threadpoolctl>=2.0.0 in c:\\users\\asus\\anaconda3\\lib\\site-packages (from imbalanced-learn->imblearn) (2.1.0)\n",
      "Requirement already satisfied: scipy>=1.1.0 in c:\\users\\asus\\anaconda3\\lib\\site-packages (from imbalanced-learn->imblearn) (1.6.2)\n",
      "Requirement already satisfied: scikit-learn>=1.0.1 in c:\\users\\asus\\anaconda3\\lib\\site-packages (from imbalanced-learn->imblearn) (1.0.2)\n",
      "Requirement already satisfied: joblib>=0.11 in c:\\users\\asus\\anaconda3\\lib\\site-packages (from imbalanced-learn->imblearn) (1.0.1)\n",
      "Note: you may need to restart the kernel to use updated packages.\n"
     ]
    },
    {
     "name": "stderr",
     "output_type": "stream",
     "text": [
      "Error processing line 1 of C:\\Users\\Asus\\Anaconda3\\lib\\site-packages\\vision-1.0.0-py3.7-nspkg.pth:\n",
      "\n",
      "  Traceback (most recent call last):\n",
      "    File \"C:\\Users\\Asus\\Anaconda3\\lib\\site.py\", line 168, in addpackage\n",
      "      exec(line)\n",
      "    File \"<string>\", line 1, in <module>\n",
      "    File \"<frozen importlib._bootstrap>\", line 580, in module_from_spec\n",
      "  AttributeError: 'NoneType' object has no attribute 'loader'\n",
      "\n",
      "Remainder of file ignored\n"
     ]
    }
   ],
   "source": [
    "pip install imblearn"
   ]
  },
  {
   "cell_type": "code",
   "execution_count": 2,
   "metadata": {
    "_cell_guid": "b1076dfc-b9ad-4769-8c92-a6c4dae69d19",
    "_uuid": "8f2839f25d086af736a60e9eeb907d3b93b6e0e5",
    "execution": {
     "iopub.execute_input": "2022-12-08T12:06:02.950966Z",
     "iopub.status.busy": "2022-12-08T12:06:02.950539Z",
     "iopub.status.idle": "2022-12-08T12:06:02.958557Z",
     "shell.execute_reply": "2022-12-08T12:06:02.957252Z",
     "shell.execute_reply.started": "2022-12-08T12:06:02.950931Z"
    }
   },
   "outputs": [],
   "source": [
    "import numpy as np\n",
    "import pandas as pd\n",
    "import regex as re\n",
    "import pickle\n",
    "import nltk\n",
    "import time\n",
    "\n",
    "from sklearn.feature_extraction.text import TfidfVectorizer\n",
    "from scipy.sparse import hstack\n",
    "\n",
    "from sklearn.ensemble import RandomForestClassifier\n",
    "from sklearn.linear_model import LogisticRegression\n",
    "from sklearn.linear_model import SGDClassifier\n",
    "from imblearn.ensemble import EasyEnsembleClassifier\n",
    "from sklearn.linear_model import Ridge\n",
    "from sklearn.ensemble import VotingClassifier\n",
    "from sklearn.model_selection import cross_val_score"
   ]
  },
  {
   "cell_type": "code",
   "execution_count": 3,
   "metadata": {
    "execution": {
     "iopub.execute_input": "2022-12-08T12:06:04.079225Z",
     "iopub.status.busy": "2022-12-08T12:06:04.078811Z",
     "iopub.status.idle": "2022-12-08T12:06:04.305478Z",
     "shell.execute_reply": "2022-12-08T12:06:04.304012Z",
     "shell.execute_reply.started": "2022-12-08T12:06:04.079194Z"
    }
   },
   "outputs": [
    {
     "name": "stderr",
     "output_type": "stream",
     "text": [
      "[nltk_data] Downloading package punkt to\n",
      "[nltk_data]     C:\\Users\\Asus\\AppData\\Roaming\\nltk_data...\n",
      "[nltk_data]   Package punkt is already up-to-date!\n",
      "[nltk_data] Downloading package stopwords to\n",
      "[nltk_data]     C:\\Users\\Asus\\AppData\\Roaming\\nltk_data...\n",
      "[nltk_data]   Package stopwords is already up-to-date!\n",
      "[nltk_data] Downloading package words to\n",
      "[nltk_data]     C:\\Users\\Asus\\AppData\\Roaming\\nltk_data...\n",
      "[nltk_data]   Package words is already up-to-date!\n",
      "[nltk_data] Downloading package omw-1.4 to\n",
      "[nltk_data]     C:\\Users\\Asus\\AppData\\Roaming\\nltk_data...\n",
      "[nltk_data]   Package omw-1.4 is already up-to-date!\n"
     ]
    },
    {
     "data": {
      "text/plain": [
       "True"
      ]
     },
     "execution_count": 3,
     "metadata": {},
     "output_type": "execute_result"
    }
   ],
   "source": [
    "nltk.download('punkt')  \n",
    "nltk.download('stopwords')\n",
    "nltk.download('words')\n",
    "nltk.download('omw-1.4')"
   ]
  },
  {
   "cell_type": "code",
   "execution_count": 4,
   "metadata": {
    "execution": {
     "iopub.execute_input": "2022-12-08T12:06:05.843013Z",
     "iopub.status.busy": "2022-12-08T12:06:05.841452Z",
     "iopub.status.idle": "2022-12-08T12:06:06.805258Z",
     "shell.execute_reply": "2022-12-08T12:06:06.803809Z",
     "shell.execute_reply.started": "2022-12-08T12:06:05.842962Z"
    }
   },
   "outputs": [],
   "source": [
    "Start = time.time()\n",
    "train = pd.read_csv('train.csv').fillna(' ')\n",
    "test = pd.read_csv('test.csv').fillna(' ')"
   ]
  },
  {
   "cell_type": "code",
   "execution_count": 5,
   "metadata": {
    "execution": {
     "iopub.execute_input": "2022-12-08T12:06:09.789588Z",
     "iopub.status.busy": "2022-12-08T12:06:09.789119Z",
     "iopub.status.idle": "2022-12-08T12:06:57.923922Z",
     "shell.execute_reply": "2022-12-08T12:06:57.922597Z",
     "shell.execute_reply.started": "2022-12-08T12:06:09.789550Z"
    }
   },
   "outputs": [],
   "source": [
    "from nltk.stem import WordNetLemmatizer\n",
    "from nltk.corpus import stopwords\n",
    "\n",
    "lemmatizer = WordNetLemmatizer()\n",
    "w_tokenizer = nltk.tokenize.WhitespaceTokenizer()\n",
    "stopWords = stopwords.words('english')\n",
    "\n",
    "def lemmatize_text(text):\n",
    "    return [lemmatizer.lemmatize(w) for w in w_tokenizer.tokenize(text)]\n",
    "\n",
    "train_text = train[\"text\"]\n",
    "test_text = test[\"text\"]\n",
    "train_text = train_text.apply(lemmatize_text) \n",
    "test_text = test_text.apply(lemmatize_text)\n",
    "train_text = train_text.apply(lambda x: ' '.join(([word for word in x]))) # Join back the lemmztized words to form complete sentences.\n",
    "test_text = test_text.apply(lambda x: ' '.join(([word for word in x])))\n",
    "train[\"text\"] = train_text\n",
    "test[\"text\"] = test_text\n",
    "del train_text, test_text"
   ]
  },
  {
   "cell_type": "code",
   "execution_count": 6,
   "metadata": {
    "execution": {
     "iopub.execute_input": "2022-12-08T12:08:20.208085Z",
     "iopub.status.busy": "2022-12-08T12:08:20.207633Z",
     "iopub.status.idle": "2022-12-08T12:08:36.092881Z",
     "shell.execute_reply": "2022-12-08T12:08:36.091554Z",
     "shell.execute_reply.started": "2022-12-08T12:08:20.208053Z"
    }
   },
   "outputs": [],
   "source": [
    "temporary_training_data = []\n",
    "temporary_testing_data = []\n",
    "train_comments_list = train[\"text\"].tolist()\n",
    "test_comments_list = test[\"text\"].tolist()\n",
    "\n",
    "sensibleWords = {\n",
    "    \":')\": \" sad \",\n",
    "    \":-(\": \" sad \",\n",
    "    \":(\": \" sad \",\n",
    "    \":s\": \" sad \",\n",
    "    \":-s\": \" sad \",\n",
    "    \":-(\": \" frown \",\n",
    "    \":(\": \" frown \",\n",
    "    \":s\": \" frown \",\n",
    "    \":-s\": \" frown \",\n",
    "    \":/\": \" bad \",\n",
    "    \":>\": \" sad \",\n",
    "    \":')\": \" sad \",\n",
    "    \"<3\": \" heart \",\n",
    "    \":/\": \" worry \",\n",
    "    \":>\": \" angry \",\n",
    "    \"yay!\": \" good \",\n",
    "    \"yay\": \" good \",\n",
    "    \"yaay\": \" good \",\n",
    "    \"yaaay\": \" good \",\n",
    "    \"yaaaay\": \" good \",\n",
    "    \"yaaaaay\": \" good \",\n",
    "    \"m\": \"am\",\n",
    "    \"r\": \"are\",\n",
    "    \"u\": \"you\",\n",
    "    \"haha\": \"ha\",\n",
    "    \"hahaha\": \"ha\",\n",
    "    \"don't\": \"do not\",\n",
    "    \"haven't\": \"have not\",\n",
    "    \"hadn't\": \"had not\",\n",
    "    \"won't\": \"will not\",\n",
    "    \"wouldn't\": \"would not\",\n",
    "    \"can't\": \"can not\",\n",
    "    \"cannot\": \"can not\",\n",
    "    \"i'm\": \"i am\",\n",
    "    \"m\": \"am\",\n",
    "    \"i'll\" : \"i will\",\n",
    "    \"its\" : \"it is\",\n",
    "    \"it's\" : \"it is\",\n",
    "    \"'s\" : \" is\",\n",
    "    \"that's\" : \"that is\",\n",
    "    \"weren't\" : \"were not\",\n",
    "    \"doesn't\": \"does not\",\n",
    "    \"didn't\": \"did not\",\n",
    "    \"hasn't\": \"has not\",\n",
    "    \":d\": \" smile \",\n",
    "    \":p\": \" smile \",\n",
    "    \":dd\": \" smile \",\n",
    "    \"8)\": \" smile \",\n",
    "    \":-)\": \" smile \",\n",
    "    \":)\": \" smile \",\n",
    "    \";)\": \" smile \",\n",
    "    \"(-:\": \" smile \",\n",
    "    \"(:\": \" smile \",\n",
    "    r\"\\br\\b\": \"are\",\n",
    "    r\"\\bu\\b\": \"you\",\n",
    "    r\"\\bhaha\\b\": \"ha\",\n",
    "    r\"\\bhahaha\\b\": \"ha\",\n",
    "    r\"\\bdon't\\b\": \"do not\",\n",
    "    r\"\\bdoesn't\\b\": \"does not\",\n",
    "    r\"\\bdidn't\\b\": \"did not\",\n",
    "    r\"\\bhasn't\\b\": \"has not\",\n",
    "    r\"\\bhaven't\\b\": \"have not\",\n",
    "    r\"\\bhadn't\\b\": \"had not\",\n",
    "    r\"\\bwon't\\b\": \"will not\",\n",
    "    r\"\\bwouldn't\\b\": \"would not\",\n",
    "    r\"\\bcan't\\b\": \"can not\",\n",
    "    r\"\\bcannot\\b\": \"can not\",\n",
    "    r\"\\bi'm\\b\": \"i am\",\n",
    "}\n",
    "\n",
    "nonsenseWords = [word for word in sensibleWords.keys()] \n",
    "\n",
    "for comment in train_comments_list:\n",
    "    words = str(comment).split()\n",
    "    sentense = \"\"\n",
    "    for word in words:\n",
    "    \n",
    "        if word[:4] == 'http' or word[:3] == 'www': \n",
    "            continue                               \n",
    "        if word in nonsenseWords:\n",
    "            word = sensibleWords[word]\n",
    "        sentense += word + \" \"  \n",
    "    temporary_training_data.append(sentense)\n",
    "\n",
    "for comment in test_comments_list:\n",
    "    words = str(comment).split()\n",
    "    sentense = \"\"\n",
    "    for word in words:\n",
    "       \n",
    "        if word[:4] == 'http' or word[:3] == 'www': \n",
    "            continue                               \n",
    "        if word in nonsenseWords:\n",
    "            word = sensibleWords[word]\n",
    "        sentense += word + \" \" \n",
    "    temporary_testing_data.append(sentense)\n",
    "\n",
    "\n",
    "for i, c in enumerate(temporary_training_data):\n",
    "    temporary_training_data[i] = re.sub('[^a-zA-Z ?!]+', '', temporary_training_data[i])\n",
    "\n",
    "for i, c in enumerate(temporary_testing_data):\n",
    "    temporary_testing_data[i] = re.sub('[^a-zA-Z ?!]+', '', temporary_testing_data[i]) \n",
    "    \n",
    "train[\"text\"] = temporary_training_data\n",
    "test[\"text\"] = temporary_testing_data\n",
    "del temporary_training_data, temporary_testing_data\n"
   ]
  },
  {
   "cell_type": "code",
   "execution_count": 7,
   "metadata": {
    "execution": {
     "iopub.execute_input": "2022-12-08T12:09:01.074065Z",
     "iopub.status.busy": "2022-12-08T12:09:01.073464Z",
     "iopub.status.idle": "2022-12-08T12:09:01.083447Z",
     "shell.execute_reply": "2022-12-08T12:09:01.082565Z",
     "shell.execute_reply.started": "2022-12-08T12:09:01.074025Z"
    }
   },
   "outputs": [],
   "source": [
    "train_text = train[\"text\"]\n",
    "test_text = test[\"text\"]\n",
    "complete_text = pd.concat([train[\"text\"], test[\"text\"]]) "
   ]
  },
  {
   "cell_type": "code",
   "execution_count": 8,
   "metadata": {
    "execution": {
     "iopub.execute_input": "2022-12-08T12:09:15.534105Z",
     "iopub.status.busy": "2022-12-08T12:09:15.533667Z",
     "iopub.status.idle": "2022-12-08T12:09:53.946711Z",
     "shell.execute_reply": "2022-12-08T12:09:53.945371Z",
     "shell.execute_reply.started": "2022-12-08T12:09:15.534071Z"
    }
   },
   "outputs": [],
   "source": [
    "word_vectorizer = TfidfVectorizer(\n",
    "    sublinear_tf = True,  \n",
    "    strip_accents = 'unicode', \n",
    "    analyzer = 'word', \n",
    "    token_pattern = '(?u)\\\\b\\\\w\\\\w+\\\\b\\\\w{,1}',\n",
    "    lowercase = False,\n",
    "    stop_words = 'english',  \n",
    "    ngram_range = (1, 2),  \n",
    "    min_df = 2,\n",
    "    max_df = 0.5,\n",
    "    norm = 'l2',\n",
    "    max_features = 30000\n",
    ") \n",
    "word_vectorizer.fit(complete_text)\n",
    "train_word_features = word_vectorizer.transform(train_text)\n",
    "test_word_features = word_vectorizer.transform(test_text)\n"
   ]
  },
  {
   "cell_type": "code",
   "execution_count": 9,
   "metadata": {
    "execution": {
     "iopub.execute_input": "2022-12-08T12:10:00.226633Z",
     "iopub.status.busy": "2022-12-08T12:10:00.226158Z",
     "iopub.status.idle": "2022-12-08T12:17:09.762133Z",
     "shell.execute_reply": "2022-12-08T12:17:09.760918Z",
     "shell.execute_reply.started": "2022-12-08T12:10:00.226596Z"
    }
   },
   "outputs": [],
   "source": [
    "char_vectorizer = TfidfVectorizer (\n",
    "    sublinear_tf = True,\n",
    "    strip_accents = 'unicode', \n",
    "    analyzer = 'char',\n",
    "    ngram_range = (2, 6),  \n",
    "    min_df = 2, \n",
    "    max_df = 0.5,\n",
    "    max_features = 20000\n",
    ")\n",
    "char_vectorizer.fit(complete_text) \n",
    "train_char_features = char_vectorizer.transform(train_text)\n",
    "test_char_features = char_vectorizer.transform(test_text)"
   ]
  },
  {
   "cell_type": "code",
   "execution_count": 10,
   "metadata": {
    "execution": {
     "iopub.execute_input": "2022-12-08T12:17:09.764862Z",
     "iopub.status.busy": "2022-12-08T12:17:09.764415Z",
     "iopub.status.idle": "2022-12-08T12:17:12.432264Z",
     "shell.execute_reply": "2022-12-08T12:17:12.430987Z",
     "shell.execute_reply.started": "2022-12-08T12:17:09.764827Z"
    }
   },
   "outputs": [],
   "source": [
    "train_features = hstack([train_char_features, train_word_features])  \n",
    "test_features = hstack([test_char_features, test_word_features])\n"
   ]
  },
  {
   "cell_type": "code",
   "execution_count": 11,
   "metadata": {
    "execution": {
     "iopub.execute_input": "2022-12-08T12:17:12.434019Z",
     "iopub.status.busy": "2022-12-08T12:17:12.433683Z",
     "iopub.status.idle": "2022-12-08T12:17:21.382945Z",
     "shell.execute_reply": "2022-12-08T12:17:21.381253Z",
     "shell.execute_reply.started": "2022-12-08T12:17:12.433991Z"
    }
   },
   "outputs": [],
   "source": [
    "categories = ['harsh', 'extremely_harsh', 'vulgar', 'threatening', 'disrespect', 'targeted_hate']\n",
    "temp = train_features.tocsr()"
   ]
  },
  {
   "cell_type": "code",
   "execution_count": 25,
   "metadata": {},
   "outputs": [
    {
     "data": {
      "text/plain": [
       "<89359x50000 sparse matrix of type '<class 'numpy.float64'>'\n",
       "\twith 70363833 stored elements in Compressed Sparse Row format>"
      ]
     },
     "execution_count": 25,
     "metadata": {},
     "output_type": "execute_result"
    }
   ],
   "source": []
  },
  {
   "cell_type": "code",
   "execution_count": 51,
   "metadata": {},
   "outputs": [
    {
     "name": "stderr",
     "output_type": "stream",
     "text": [
      "100%|███████████████████████████████████████████████████████████████████████████████████| 6/6 [22:03<00:00, 220.59s/it]\n"
     ]
    }
   ],
   "source": [
    "cross_validation_scores = []\n",
    "model_storage = open('model_storage_lr.pckl', 'wb')\n",
    "from sklearn.linear_model import LogisticRegressionCV\n",
    "lr = LogisticRegressionCV(solver = 'liblinear', n_jobs = -1) \n",
    "for category in tqdm(categories):\n",
    "    train_target = train[category]\n",
    "    train_target_values = train_target.values\n",
    "    lr = LogisticRegression(max_iter = 150, dual = False, C = 2)\n",
    "    eec_lr = EasyEnsembleClassifier(base_estimator = LogisticRegression(solver = 'sag', max_iter = 750,n_jobs=-1, C = 2))\n",
    "    cv_score = np.mean(cross_val_score(eec_lr, train_features, train_target, cv = 10, scoring = 'roc_auc'))\n",
    "    cross_validation_scores.append(cv_score)\n",
    "    eec_lr.fit(train_features, train_target)\n",
    "    pickle.dump(eec_lr, model_storage)"
   ]
  },
  {
   "cell_type": "code",
   "execution_count": 52,
   "metadata": {},
   "outputs": [
    {
     "name": "stdout",
     "output_type": "stream",
     "text": [
      "Time of execution: 313.52610336144767 minutes\n"
     ]
    }
   ],
   "source": [
    "Output = pd.DataFrame.from_dict({'id': test['id']})\n",
    "models = []\n",
    "\n",
    "with open(\"model_storage_lr.pckl\", \"rb\") as file:\n",
    "    while True:\n",
    "        try:\n",
    "            models.append(pickle.load(file))\n",
    "            except EOFError:\n",
    "            break\n",
    "\n",
    "i=0  \n",
    "for category in categories:\n",
    "    train_target = train[category]\n",
    "    Output[category] = models[i].predict(test_features)\n",
    "    i=i+1\n",
    "\n",
    "Output.to_csv('FinalSubmission_lr.csv', index = False)\n",
    "\n",
    "End = time.time()\n",
    "print('Time of execution: {} minutes'.format((End - Start) / 60)) "
   ]
  },
  {
   "cell_type": "code",
   "execution_count": null,
   "metadata": {},
   "outputs": [],
   "source": []
  }
 ],
 "metadata": {
  "kernelspec": {
   "display_name": "Python 3",
   "language": "python",
   "name": "python3"
  },
  "language_info": {
   "codemirror_mode": {
    "name": "ipython",
    "version": 3
   },
   "file_extension": ".py",
   "mimetype": "text/x-python",
   "name": "python",
   "nbconvert_exporter": "python",
   "pygments_lexer": "ipython3",
   "version": "3.7.10"
  }
 },
 "nbformat": 4,
 "nbformat_minor": 4
}
