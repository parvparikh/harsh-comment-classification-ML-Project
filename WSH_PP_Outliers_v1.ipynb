{
 "cells": [
  {
   "cell_type": "markdown",
   "id": "8b6fa712",
   "metadata": {},
   "source": [
    "## Group Name : PP Outliers\n",
    "## Project Name : Why So Harsh!\n",
    "## MT2022069 Parul Ghotikar\n",
    "## MT2022071 Parv Parikh"
   ]
  },
  {
   "cell_type": "markdown",
   "id": "257a9e88",
   "metadata": {},
   "source": [
    "IMPORTS Required"
   ]
  },
  {
   "cell_type": "code",
   "execution_count": 5,
   "id": "0ac254f6",
   "metadata": {},
   "outputs": [],
   "source": [
    "import numpy as np\n",
    "import pandas as pd\n",
    "\n",
    "import matplotlib.pyplot as plt\n",
    "import seaborn as sns\n",
    "\n",
    "import nltk\n",
    "from nltk.stem import WordNetLemmatizer\n",
    "\n",
    "import re\n",
    "from nltk.corpus import stopwords \n",
    "\n",
    "from sklearn.feature_extraction.text import TfidfVectorizer"
   ]
  },
  {
   "cell_type": "markdown",
   "id": "1fdf2981",
   "metadata": {},
   "source": [
    "reading datasets"
   ]
  },
  {
   "cell_type": "code",
   "execution_count": 7,
   "id": "aa82f851",
   "metadata": {
    "scrolled": true
   },
   "outputs": [
    {
     "name": "stdout",
     "output_type": "stream",
     "text": [
      "<class 'pandas.core.frame.DataFrame'>\n",
      "RangeIndex: 89359 entries, 0 to 89358\n",
      "Data columns (total 8 columns):\n",
      " #   Column           Non-Null Count  Dtype \n",
      "---  ------           --------------  ----- \n",
      " 0   id               89359 non-null  object\n",
      " 1   text             89359 non-null  object\n",
      " 2   harsh            89359 non-null  int64 \n",
      " 3   extremely_harsh  89359 non-null  int64 \n",
      " 4   vulgar           89359 non-null  int64 \n",
      " 5   threatening      89359 non-null  int64 \n",
      " 6   disrespect       89359 non-null  int64 \n",
      " 7   targeted_hate    89359 non-null  int64 \n",
      "dtypes: int64(6), object(2)\n",
      "memory usage: 5.5+ MB\n"
     ]
    }
   ],
   "source": [
    "data = pd.read_csv('train.csv')\n",
    "test = pd.read_csv('test.csv')\n",
    "data.info()"
   ]
  },
  {
   "cell_type": "markdown",
   "id": "d44701c1",
   "metadata": {},
   "source": [
    "# Data analysis"
   ]
  },
  {
   "cell_type": "code",
   "execution_count": 8,
   "id": "01755916",
   "metadata": {
    "scrolled": true
   },
   "outputs": [
    {
     "data": {
      "text/plain": [
       "harsh              8559\n",
       "extremely_harsh     917\n",
       "vulgar             4742\n",
       "threatening         268\n",
       "disrespect         4392\n",
       "targeted_hate       802\n",
       "dtype: int64"
      ]
     },
     "execution_count": 8,
     "metadata": {},
     "output_type": "execute_result"
    }
   ],
   "source": [
    "data_count=data.iloc[:,2:].sum()\n",
    "data_count"
   ]
  },
  {
   "cell_type": "code",
   "execution_count": 15,
   "id": "9df09729",
   "metadata": {},
   "outputs": [
    {
     "name": "stdout",
     "output_type": "stream",
     "text": [
      "0    0.904218\n",
      "1    0.095782\n",
      "Name: harsh, dtype: float64\n",
      "0    0.989738\n",
      "1    0.010262\n",
      "Name: extremely_harsh, dtype: float64\n",
      "0    0.946933\n",
      "1    0.053067\n",
      "Name: vulgar, dtype: float64\n",
      "0    0.997001\n",
      "1    0.002999\n",
      "Name: threatening, dtype: float64\n",
      "0    0.95085\n",
      "1    0.04915\n",
      "Name: disrespect, dtype: float64\n",
      "0    0.991025\n",
      "1    0.008975\n",
      "Name: targeted_hate, dtype: float64\n"
     ]
    }
   ],
   "source": [
    "# Shows the count of 0s and 1s  \n",
    "print(data.harsh.value_counts(normalize=True))\n",
    "print(data.extremely_harsh.value_counts(normalize=True))\n",
    "print(data.vulgar.value_counts(normalize=True))\n",
    "print(data.threatening.value_counts(normalize=True))\n",
    "print(data.disrespect.value_counts(normalize=True))\n",
    "print(data.targeted_hate.value_counts(normalize=True))\n"
   ]
  },
  {
   "cell_type": "code",
   "execution_count": 5,
   "id": "bd4e5e22",
   "metadata": {},
   "outputs": [
    {
     "data": {
      "text/plain": [
       "Index(['id', 'text', 'harsh', 'extremely_harsh', 'vulgar', 'threatening',\n",
       "       'disrespect', 'targeted_hate'],\n",
       "      dtype='object')"
      ]
     },
     "execution_count": 5,
     "metadata": {},
     "output_type": "execute_result"
    }
   ],
   "source": [
    "data.keys()"
   ]
  },
  {
   "cell_type": "code",
   "execution_count": 6,
   "id": "dd446b37",
   "metadata": {},
   "outputs": [
    {
     "data": {
      "text/plain": [
       "Index(['id', 'text'], dtype='object')"
      ]
     },
     "execution_count": 6,
     "metadata": {},
     "output_type": "execute_result"
    }
   ],
   "source": [
    "test.keys()"
   ]
  },
  {
   "cell_type": "markdown",
   "id": "82c6ceef",
   "metadata": {},
   "source": [
    "# Histogram plot for data analysis"
   ]
  },
  {
   "cell_type": "code",
   "execution_count": 7,
   "id": "baaa62f1",
   "metadata": {},
   "outputs": [
    {
     "data": {
      "text/plain": [
       "<AxesSubplot:>"
      ]
     },
     "execution_count": 7,
     "metadata": {},
     "output_type": "execute_result"
    },
    {
     "data": {
      "image/png": "[encoded data removed]",
      "text/plain": [
       "<Figure size 432x288 with 1 Axes>"
      ]
     },
     "metadata": {
      "needs_background": "light"
     },
     "output_type": "display_data"
    }
   ],
   "source": [
    "data['harsh'].hist()"
   ]
  },
  {
   "cell_type": "code",
   "execution_count": 8,
   "id": "cceab1d6",
   "metadata": {},
   "outputs": [
    {
     "data": {
      "text/plain": [
       "<AxesSubplot:>"
      ]
     },
     "execution_count": 8,
     "metadata": {},
     "output_type": "execute_result"
    },
    {
     "data": {
      "image/png": "[encoded data removed]",
      "text/plain": [
       "<Figure size 432x288 with 1 Axes>"
      ]
     },
     "metadata": {
      "needs_background": "light"
     },
     "output_type": "display_data"
    }
   ],
   "source": [
    "data['extremely_harsh'].hist()"
   ]
  },
  {
   "cell_type": "code",
   "execution_count": 9,
   "id": "11f12ee3",
   "metadata": {},
   "outputs": [
    {
     "data": {
      "text/plain": [
       "<AxesSubplot:>"
      ]
     },
     "execution_count": 9,
     "metadata": {},
     "output_type": "execute_result"
    },
    {
     "data": {
      "image/png": "[encoded data removed]",
      "text/plain": [
       "<Figure size 432x288 with 1 Axes>"
      ]
     },
     "metadata": {
      "needs_background": "light"
     },
     "output_type": "display_data"
    }
   ],
   "source": [
    "data['vulgar'].hist()"
   ]
  },
  {
   "cell_type": "code",
   "execution_count": 10,
   "id": "d9f74066",
   "metadata": {},
   "outputs": [
    {
     "data": {
      "text/plain": [
       "<AxesSubplot:>"
      ]
     },
     "execution_count": 10,
     "metadata": {},
     "output_type": "execute_result"
    },
    {
     "data": {
      "image/png": "[encoded data removed]",
      "text/plain": [
       "<Figure size 432x288 with 1 Axes>"
      ]
     },
     "metadata": {
      "needs_background": "light"
     },
     "output_type": "display_data"
    }
   ],
   "source": [
    "data['threatening'].hist()"
   ]
  },
  {
   "cell_type": "code",
   "execution_count": 11,
   "id": "500fa39f",
   "metadata": {},
   "outputs": [
    {
     "data": {
      "text/plain": [
       "<AxesSubplot:>"
      ]
     },
     "execution_count": 11,
     "metadata": {},
     "output_type": "execute_result"
    },
    {
     "data": {
      "image/png": "[encoded data removed]",
      "text/plain": [
       "<Figure size 432x288 with 1 Axes>"
      ]
     },
     "metadata": {
      "needs_background": "light"
     },
     "output_type": "display_data"
    }
   ],
   "source": [
    "data['disrespect'].hist()"
   ]
  },
  {
   "cell_type": "code",
   "execution_count": 12,
   "id": "6aa2cd28",
   "metadata": {},
   "outputs": [
    {
     "data": {
      "text/plain": [
       "<AxesSubplot:>"
      ]
     },
     "execution_count": 12,
     "metadata": {},
     "output_type": "execute_result"
    },
    {
     "data": {
      "image/png": "[encoded data removed]",
      "text/plain": [
       "<Figure size 432x288 with 1 Axes>"
      ]
     },
     "metadata": {
      "needs_background": "light"
     },
     "output_type": "display_data"
    }
   ],
   "source": [
    "data['targeted_hate'].hist()"
   ]
  },
  {
   "cell_type": "code",
   "execution_count": 13,
   "id": "b5ba5574",
   "metadata": {},
   "outputs": [
    {
     "data": {
      "text/plain": [
       "id                 0\n",
       "text               0\n",
       "harsh              0\n",
       "extremely_harsh    0\n",
       "vulgar             0\n",
       "threatening        0\n",
       "disrespect         0\n",
       "targeted_hate      0\n",
       "dtype: int64"
      ]
     },
     "execution_count": 13,
     "metadata": {},
     "output_type": "execute_result"
    }
   ],
   "source": [
    "# checks for is null values\n",
    "\n",
    "data.isnull().sum()"
   ]
  },
  {
   "cell_type": "code",
   "execution_count": 14,
   "id": "237ad1c1",
   "metadata": {},
   "outputs": [
    {
     "name": "stdout",
     "output_type": "stream",
     "text": [
      "Total comments =  89359\n",
      "clean comments =  80283\n",
      "comments with labels = 9076\n"
     ]
    }
   ],
   "source": [
    "# Calculating total of clean comments and comments with labels\n",
    "\n",
    "rowSum = data.iloc[:,2:].sum(axis=1)\n",
    "cleanComment = (rowSum==0).sum(axis=0)\n",
    "\n",
    "print(\"Total comments = \",len(data))\n",
    "print(\"clean comments = \",cleanComment)\n",
    "print(\"comments with labels =\",(len(data)-cleanComment))"
   ]
  },
  {
   "cell_type": "code",
   "execution_count": 15,
   "id": "7d54fec3",
   "metadata": {},
   "outputs": [
    {
     "name": "stdout",
     "output_type": "stream",
     "text": [
      "['id', 'text', 'harsh', 'extremely_harsh', 'vulgar', 'threatening', 'disrespect', 'targeted_hate']\n",
      "['harsh', 'extremely_harsh', 'vulgar', 'threatening', 'disrespect', 'targeted_hate']\n"
     ]
    }
   ],
   "source": [
    "cols = list(data.columns.values)\n",
    "print(cols)\n",
    "categories = cols[2:]\n",
    "print(categories)"
   ]
  },
  {
   "cell_type": "code",
   "execution_count": 16,
   "id": "03b5e7b2",
   "metadata": {
    "scrolled": true
   },
   "outputs": [
    {
     "data": {
      "text/html": [
       "<div>\n",
       "<style scoped>\n",
       "    .dataframe tbody tr th:only-of-type {\n",
       "        vertical-align: middle;\n",
       "    }\n",
       "\n",
       "    .dataframe tbody tr th {\n",
       "        vertical-align: top;\n",
       "    }\n",
       "\n",
       "    .dataframe thead th {\n",
       "        text-align: right;\n",
       "    }\n",
       "</style>\n",
       "<table border=\"1\" class=\"dataframe\">\n",
       "  <thead>\n",
       "    <tr style=\"text-align: right;\">\n",
       "      <th></th>\n",
       "      <th>category</th>\n",
       "      <th># comments</th>\n",
       "    </tr>\n",
       "  </thead>\n",
       "  <tbody>\n",
       "    <tr>\n",
       "      <th>0</th>\n",
       "      <td>harsh</td>\n",
       "      <td>8559</td>\n",
       "    </tr>\n",
       "    <tr>\n",
       "      <th>1</th>\n",
       "      <td>extremely_harsh</td>\n",
       "      <td>917</td>\n",
       "    </tr>\n",
       "    <tr>\n",
       "      <th>2</th>\n",
       "      <td>vulgar</td>\n",
       "      <td>4742</td>\n",
       "    </tr>\n",
       "    <tr>\n",
       "      <th>3</th>\n",
       "      <td>threatening</td>\n",
       "      <td>268</td>\n",
       "    </tr>\n",
       "    <tr>\n",
       "      <th>4</th>\n",
       "      <td>disrespect</td>\n",
       "      <td>4392</td>\n",
       "    </tr>\n",
       "    <tr>\n",
       "      <th>5</th>\n",
       "      <td>targeted_hate</td>\n",
       "      <td>802</td>\n",
       "    </tr>\n",
       "  </tbody>\n",
       "</table>\n",
       "</div>"
      ],
      "text/plain": [
       "          category  # comments\n",
       "0            harsh        8559\n",
       "1  extremely_harsh         917\n",
       "2           vulgar        4742\n",
       "3      threatening         268\n",
       "4       disrespect        4392\n",
       "5    targeted_hate         802"
      ]
     },
     "execution_count": 16,
     "metadata": {},
     "output_type": "execute_result"
    }
   ],
   "source": [
    "# counts comments in each category\n",
    "\n",
    "commentCount = []\n",
    "for category in categories:\n",
    "    commentCount.append((category, data[category].sum()))\n",
    "dfCommentCount = pd.DataFrame(commentCount, columns=['category', '# comments'])\n",
    "dfCommentCount"
   ]
  },
  {
   "cell_type": "code",
   "execution_count": 17,
   "id": "0084858d",
   "metadata": {},
   "outputs": [],
   "source": [
    "# Graph plot to visualize comments in each category"
   ]
  },
  {
   "cell_type": "code",
   "execution_count": 18,
   "id": "ed8ece9a",
   "metadata": {},
   "outputs": [
    {
     "name": "stderr",
     "output_type": "stream",
     "text": [
      "C:\\Users\\Asus\\Anaconda3\\lib\\site-packages\\seaborn\\_decorators.py:43: FutureWarning: Pass the following variables as keyword args: x, y. From version 0.12, the only valid positional argument will be `data`, and passing other arguments without an explicit keyword will result in an error or misinterpretation.\n",
      "  FutureWarning\n"
     ]
    },
    {
     "data": {
      "image/png": "[encoded data removed]",
      "text/plain": [
       "<Figure size 720x576 with 1 Axes>"
      ]
     },
     "metadata": {},
     "output_type": "display_data"
    }
   ],
   "source": [
    "sns.set(font_scale = 1)\n",
    "plt.figure(figsize=(10,8))\n",
    "\n",
    "ax= sns.barplot(categories, data.iloc[:,2:].sum().values, palette = \"Blues\")\n",
    "\n",
    "plt.title(\"Comments in each category\", fontsize=12)\n",
    "plt.ylabel('Number of comments', fontsize=12)\n",
    "plt.xlabel('Comment Type ', fontsize=12)\n",
    "\n",
    "#adding the text labels\n",
    "rects = ax.patches\n",
    "labels = data.iloc[:,2:].sum().values\n",
    "for rect, label in zip(rects, labels):\n",
    "    height = rect.get_height()\n",
    "    ax.text(rect.get_x() + rect.get_width()/2, height + 5, label, ha='center', va='bottom', fontsize=12)\n",
    "\n",
    "plt.show()"
   ]
  },
  {
   "cell_type": "code",
   "execution_count": 19,
   "id": "f16e8753",
   "metadata": {},
   "outputs": [],
   "source": [
    "# Graph plot to visualize the comments having multiple labels"
   ]
  },
  {
   "cell_type": "code",
   "execution_count": 20,
   "id": "0dd89d25",
   "metadata": {},
   "outputs": [
    {
     "name": "stderr",
     "output_type": "stream",
     "text": [
      "C:\\Users\\Asus\\Anaconda3\\lib\\site-packages\\seaborn\\_decorators.py:43: FutureWarning: Pass the following variables as keyword args: x, y. From version 0.12, the only valid positional argument will be `data`, and passing other arguments without an explicit keyword will result in an error or misinterpretation.\n",
      "  FutureWarning\n"
     ]
    },
    {
     "data": {
      "image/png": "[encoded data removed]",
      "text/plain": [
       "<Figure size 720x576 with 1 Axes>"
      ]
     },
     "metadata": {},
     "output_type": "display_data"
    }
   ],
   "source": [
    "multiLabelCount = data.iloc[:,2:].sum(axis=1).value_counts()\n",
    "\n",
    "multiLabelCount = multiLabelCount.iloc[1:]\n",
    "\n",
    "sns.set(font_scale = 1)\n",
    "plt.figure(figsize=(10,8))\n",
    "\n",
    "ax = sns.barplot(multiLabelCount.index, multiLabelCount.values, palette = \"Blues\")\n",
    "\n",
    "plt.title(\"Comments having multiple labels \")\n",
    "plt.ylabel('Number of comments', fontsize=12)\n",
    "plt.xlabel('Number of labels', fontsize=12)\n",
    "\n",
    "#adding the text labels\n",
    "rects = ax.patches\n",
    "labels = multiLabelCount.values\n",
    "for rect, label in zip(rects, labels):\n",
    "    height = rect.get_height()\n",
    "    ax.text(rect.get_x() + rect.get_width()/2, height + 2, label, ha='center', va='bottom')\n",
    "\n",
    "plt.show()"
   ]
  },
  {
   "cell_type": "markdown",
   "id": "f372b534",
   "metadata": {},
   "source": [
    "# Data PreProcessing"
   ]
  },
  {
   "cell_type": "code",
   "execution_count": 21,
   "id": "c669fc27",
   "metadata": {},
   "outputs": [],
   "source": [
    "import string\n",
    "\n",
    "# Data cleaning, it converts text data to lowercase, \n",
    "# removes html symbols newline whitespace numbers alphanumeric punctuations \n",
    "\n",
    "# at the end it cleans the data and we are left with only english words\n",
    "def dataCleaning(text):\n",
    "    text=text.lower()\n",
    "    htmlre = re.compile('<.*?>') #html\n",
    "    text = re.sub(htmlre, ' ', str(text))\n",
    "    text = re.sub(r'(.)\\1{2,}', r'\\1', text) \n",
    "    text = str(text).replace(\"\\n\", \" \") # new Line\n",
    "    text = re.sub(r'[^\\w\\s]',' ',text) # whitespace\n",
    "    text = re.sub('[0-9]',\"\",text) # numbers\n",
    "    text = re.sub(\" +\", \" \", text) # non english characters\n",
    "    text = re.sub('\\w*\\d\\w*', ' ', text) # alphanumeric\n",
    "    # '[%s]' % re.escape(string.punctuation),' ' - replace punctuation with white space\n",
    "    text = re.sub('[%s]' % re.escape(string.punctuation), ' ', text)\n",
    "    # non ascii\n",
    "    text = re.sub(\"([^\\x00-\\x7F])+\",\" \",text)\n",
    "    return text "
   ]
  },
  {
   "cell_type": "code",
   "execution_count": 22,
   "id": "f2d784ee",
   "metadata": {},
   "outputs": [],
   "source": [
    "data['text'] = data['text'].apply(dataCleaning)"
   ]
  },
  {
   "cell_type": "code",
   "execution_count": 23,
   "id": "e65a50d0",
   "metadata": {},
   "outputs": [],
   "source": [
    "test['text'] = test['text'].apply(dataCleaning)"
   ]
  },
  {
   "cell_type": "code",
   "execution_count": 24,
   "id": "f5d24186",
   "metadata": {},
   "outputs": [
    {
     "data": {
      "text/plain": [
       "' december utc i am interested not in arguing but in the policies which resolve our ongoing content dispute also see wikipedia wikiproject united states presidential elections for what i ll be working on also the moneybomb closer just self reverted on two different requests which echoed what i would have requested i will rephrase which i didn t see an answer to building on our agreement that moneybomb should not be a redlink given the deletion reversion what should be the outline of the article called moneybomb or should it be submitted for afd again in due time if the latter see the previous version of however this version will require a detailed answer because any ambiguity will only necessitate clarifying questions '"
      ]
     },
     "execution_count": 24,
     "metadata": {},
     "output_type": "execute_result"
    }
   ],
   "source": [
    "data['text'][0]"
   ]
  },
  {
   "cell_type": "code",
   "execution_count": 25,
   "id": "541eff61",
   "metadata": {},
   "outputs": [],
   "source": [
    "# separating columns in a specific data set for each label\n",
    "\n",
    "data_harsh = data.loc[:,['id','text','harsh']]\n",
    "data_extremely_harsh = data.loc[:,['id','text','extremely_harsh']]\n",
    "data_vulgar = data.loc[:,['id','text','vulgar']]\n",
    "data_threatening = data.loc[:,['id','text','threatening']]\n",
    "data_disrespect = data.loc[:,['id','text','disrespect']]\n",
    "data_targeted_hate = data.loc[:,['id','text','targeted_hate']]"
   ]
  },
  {
   "cell_type": "code",
   "execution_count": 26,
   "id": "791f14ac",
   "metadata": {},
   "outputs": [
    {
     "name": "stdout",
     "output_type": "stream",
     "text": [
      "0    80800\n",
      "1     8559\n",
      "Name: harsh, dtype: int64\n",
      "0    88442\n",
      "1      917\n",
      "Name: extremely_harsh, dtype: int64\n",
      "0    84617\n",
      "1     4742\n",
      "Name: vulgar, dtype: int64\n",
      "0    89091\n",
      "1      268\n",
      "Name: threatening, dtype: int64\n",
      "0    84967\n",
      "1     4392\n",
      "Name: disrespect, dtype: int64\n",
      "0    88557\n",
      "1      802\n",
      "Name: targeted_hate, dtype: int64\n"
     ]
    }
   ],
   "source": [
    "print(data_harsh.harsh.value_counts())\n",
    "print(data_extremely_harsh.extremely_harsh.value_counts())\n",
    "print(data_vulgar.vulgar.value_counts())\n",
    "print(data_threatening.threatening.value_counts())\n",
    "print(data_disrespect.disrespect.value_counts())\n",
    "print(data_targeted_hate.targeted_hate.value_counts())"
   ]
  },
  {
   "cell_type": "code",
   "execution_count": 27,
   "id": "9b1a3b56",
   "metadata": {},
   "outputs": [],
   "source": [
    "wordnetlemmatizer = WordNetLemmatizer()"
   ]
  },
  {
   "cell_type": "code",
   "execution_count": 28,
   "id": "7954bd66",
   "metadata": {},
   "outputs": [],
   "source": [
    "# function to perform lemmatization \n",
    "# it removes noun verb adjective and adverb and converts to meaningful base word\n",
    "\n",
    "def lemmatize(text):\n",
    "    output=\"\"\n",
    "    text=text.split(\" \")\n",
    "    for word in text:\n",
    "        word1 = wordnetlemmatizer.lemmatize(word, pos = \"n\") #noun\n",
    "        word2 = wordnetlemmatizer.lemmatize(word1, pos = \"v\") #verb\n",
    "        word3 = wordnetlemmatizer.lemmatize(word2, pos = \"a\") # adjective\n",
    "        word4 = wordnetlemmatizer.lemmatize(word3, pos = \"r\") #adverb\n",
    "        output=output + \" \" + word4\n",
    "  \n",
    "    return str(output.strip()) "
   ]
  },
  {
   "cell_type": "markdown",
   "id": "07cb365d",
   "metadata": {},
   "source": [
    "# Removing stop words"
   ]
  },
  {
   "cell_type": "code",
   "execution_count": 29,
   "id": "49e059ae",
   "metadata": {},
   "outputs": [],
   "source": [
    "\n",
    "stopWords = set(stopwords.words('english'))\n",
    "\n",
    "stopWords.update(['december','january','february','march','april','may','june','august','september','october','november','july','please','within','good','know','thank','may','maybe','also','find','like','thing','time','want','around','would','below','across','among','beside','see','however','yet'])\n",
    "\n",
    "def removeStopWords(text):\n",
    "    text = ' '.join(word for word in text.split() if word not in stopWords)\n",
    "    return text\n",
    "\n",
    "data['text'] = data['text'].apply(removeStopWords)\n",
    "test['text'] = test['text'].apply(removeStopWords)"
   ]
  },
  {
   "cell_type": "markdown",
   "id": "af5a2f41",
   "metadata": {},
   "source": [
    "# Balancing data cols "
   ]
  },
  {
   "cell_type": "code",
   "execution_count": 30,
   "id": "b0900039",
   "metadata": {},
   "outputs": [
    {
     "data": {
      "text/plain": [
       "(10000, 3)"
      ]
     },
     "execution_count": 30,
     "metadata": {},
     "output_type": "execute_result"
    }
   ],
   "source": [
    "# trying to minimize the data in such a way that the ratio between 1s and 0s are at least 50:50 and if data for 1s is lesser then 20:80\n",
    "\n",
    "data_harsh_true = data_harsh[data_harsh['harsh'] == 1].iloc[0:5000,:]\n",
    "data_harsh_false = data_harsh[data_harsh['harsh'] == 0].iloc[0:5000,:]\n",
    "data_harsh_set = pd.concat([data_harsh_true, data_harsh_false], axis=0)\n",
    "data_harsh_set.shape"
   ]
  },
  {
   "cell_type": "code",
   "execution_count": 31,
   "id": "74c935a8",
   "metadata": {},
   "outputs": [
    {
     "data": {
      "text/plain": [
       "(1834, 3)"
      ]
     },
     "execution_count": 31,
     "metadata": {},
     "output_type": "execute_result"
    }
   ],
   "source": [
    "data_extremely_harsh_true = data_extremely_harsh[data_extremely_harsh['extremely_harsh'] == 1].iloc[0:917,:]\n",
    "data_extremely_harsh_false = data_extremely_harsh[data_extremely_harsh['extremely_harsh'] == 0].iloc[0:917,:]\n",
    "data_extremely_harsh_set = pd.concat([data_extremely_harsh_true, data_extremely_harsh_false], axis=0)\n",
    "data_extremely_harsh_set.shape"
   ]
  },
  {
   "cell_type": "code",
   "execution_count": 32,
   "id": "b27cd7c1",
   "metadata": {},
   "outputs": [
    {
     "data": {
      "text/plain": [
       "(9484, 3)"
      ]
     },
     "execution_count": 32,
     "metadata": {},
     "output_type": "execute_result"
    }
   ],
   "source": [
    "data_vulgar_true = data_vulgar[data_vulgar['vulgar'] == 1].iloc[0:4742,:]\n",
    "data_vulgar_false = data_vulgar[data_vulgar['vulgar'] == 0].iloc[0:4742,:]\n",
    "data_vulgar_set = pd.concat([data_vulgar_true, data_vulgar_false], axis=0)\n",
    "data_vulgar_set.shape"
   ]
  },
  {
   "cell_type": "code",
   "execution_count": 33,
   "id": "4d8d0f2f",
   "metadata": {},
   "outputs": [
    {
     "data": {
      "text/plain": [
       "(1340, 3)"
      ]
     },
     "execution_count": 33,
     "metadata": {},
     "output_type": "execute_result"
    }
   ],
   "source": [
    "data_threatening_true = data_threatening[data_threatening['threatening'] == 1].iloc[0:268,:]\n",
    "# We include 1072 comments that have no threat so that the data with threat (268) will represent 20% of the dataset.\n",
    "data_threatening_false = data_threatening[data_threatening['threatening'] == 0].iloc[0:1072,:]  \n",
    "data_threatening_set = pd.concat([data_threatening_true, data_threatening_false], axis=0)\n",
    "data_threatening_set.shape"
   ]
  },
  {
   "cell_type": "code",
   "execution_count": 34,
   "id": "b0033679",
   "metadata": {},
   "outputs": [
    {
     "data": {
      "text/plain": [
       "(8784, 3)"
      ]
     },
     "execution_count": 34,
     "metadata": {},
     "output_type": "execute_result"
    }
   ],
   "source": [
    "data_disrespect_true = data_disrespect[data_disrespect['disrespect'] == 1].iloc[0:4392,:]\n",
    "data_disrespect_false = data_disrespect[data_disrespect['disrespect'] == 0].iloc[0:4392,:]\n",
    "data_disrespect_set = pd.concat([data_disrespect_true, data_disrespect_false], axis=0)\n",
    "data_disrespect_set.shape"
   ]
  },
  {
   "cell_type": "code",
   "execution_count": 35,
   "id": "fa8fab72",
   "metadata": {},
   "outputs": [
    {
     "data": {
      "text/plain": [
       "(4010, 3)"
      ]
     },
     "execution_count": 35,
     "metadata": {},
     "output_type": "execute_result"
    }
   ],
   "source": [
    "data_targeted_hate_true = data_targeted_hate[data_targeted_hate['targeted_hate'] == 1].iloc[0:802,:] # 20%\n",
    "data_targeted_hate_false = data_targeted_hate[data_targeted_hate['targeted_hate'] == 0].iloc[0:3208,:] # 80%\n",
    "data_targeted_hate_set = pd.concat([data_targeted_hate_true, data_targeted_hate_false], axis=0)\n",
    "data_targeted_hate_set.shape"
   ]
  },
  {
   "cell_type": "markdown",
   "id": "5227f7f9",
   "metadata": {},
   "source": [
    "# model fitting"
   ]
  },
  {
   "cell_type": "code",
   "execution_count": 36,
   "id": "7815a799",
   "metadata": {},
   "outputs": [],
   "source": [
    "from sklearn import preprocessing\n",
    "from sklearn.feature_selection import SelectFromModel\n",
    "from sklearn.model_selection import train_test_split, KFold, cross_val_score\n",
    "from sklearn.metrics import f1_score, precision_score, recall_score, precision_recall_curve, fbeta_score, confusion_matrix\n",
    "from sklearn.metrics import roc_auc_score, roc_curve\n",
    "from sklearn.calibration import CalibratedClassifierCV\n",
    "\n",
    "from sklearn.linear_model import LogisticRegression\n",
    "from sklearn.naive_bayes import MultinomialNB"
   ]
  },
  {
   "cell_type": "code",
   "execution_count": 43,
   "id": "4e2a457e",
   "metadata": {},
   "outputs": [],
   "source": [
    "def cv_tf_train_test(dframe,colmns,vectorizer,ngram):\n",
    "    x = dframe.text\n",
    "    y = dframe[colmns]\n",
    "    x_train, x_test, y_train, y_test = train_test_split(x, y, test_size=0.3, random_state=42)\n",
    "    tfv = vectorizer(ngram_range=(ngram), stop_words='english')\n",
    "    x_train_tfv = tfv.fit_transform(x_train)\n",
    "    x_test_tfv  = tfv.transform(x_test) \n",
    "    uk_test_fit = tfv.transform(test['text'])\n",
    "    lr = LogisticRegression()\n",
    "    lr.fit(x_train_tfv, y_train)\n",
    "    uk_prob = lr.predict_proba(uk_test_fit)\n",
    "    mnb = MultinomialNB()\n",
    "    mnb.fit(x_train_tfv, y_train)\n",
    "    f1_score_data = {'F1 Score':[f1_score(lr.predict(x_test_tfv), y_test), f1_score(mnb.predict(x_test_tfv), y_test)]} \n",
    "    df_f1 = pd.DataFrame(f1_score_data, index=['Logistic Regression', 'MultinomialNB'])  \n",
    "    return df_f1,uk_prob"
   ]
  },
  {
   "cell_type": "code",
   "execution_count": 44,
   "id": "8fed3f9e",
   "metadata": {},
   "outputs": [
    {
     "name": "stdout",
     "output_type": "stream",
     "text": [
      "*** harsh ***\n",
      "*** extremely_harsh ***\n",
      "*** vulgar ***\n",
      "*** threatening ***\n",
      "*** disrespect ***\n",
      "*** targeted_hate ***\n"
     ]
    },
    {
     "data": {
      "text/plain": [
       "[                     F1 Score\n",
       " Logistic Regression  0.872876\n",
       " MultinomialNB        0.869856,\n",
       "                      F1 Score\n",
       " Logistic Regression  0.914611\n",
       " MultinomialNB        0.929078,\n",
       "                      F1 Score\n",
       " Logistic Regression  0.907028\n",
       " MultinomialNB        0.895543,\n",
       "                      F1 Score\n",
       " Logistic Regression  0.560000\n",
       " MultinomialNB        0.594059,\n",
       "                      F1 Score\n",
       " Logistic Regression  0.888889\n",
       " MultinomialNB        0.887115,\n",
       "                      F1 Score\n",
       " Logistic Regression  0.652956\n",
       " MultinomialNB        0.425532]"
      ]
     },
     "execution_count": 44,
     "metadata": {},
     "output_type": "execute_result"
    }
   ],
   "source": [
    "cols=['harsh', 'extremely_harsh', 'vulgar', 'threatening','disrespect', 'targeted_hate']\n",
    "dones=[data_harsh_set,data_extremely_harsh_set,data_vulgar_set,data_threatening_set,data_disrespect_set,data_targeted_hate_set]\n",
    "cvs=[]\n",
    "probs={}\n",
    "for i in range(len(cols)):    \n",
    "    print(\"***\",cols[i],\"***\")\n",
    "    ans=cv_tf_train_test(dones[i],cols[i], TfidfVectorizer, (1,1))\n",
    "    cvs.append(ans[0])\n",
    "    probs[cols[i]]=ans[1]\n",
    "    cvs[i].rename(columns={'F1 Score': 'F1 Score'}, inplace=True)\n",
    "\n",
    "\n",
    "cvs"
   ]
  },
  {
   "cell_type": "code",
   "execution_count": 45,
   "id": "3c90090a",
   "metadata": {},
   "outputs": [
    {
     "data": {
      "text/plain": [
       "{'harsh': array([[0.48760455, 0.51239545],\n",
       "        [0.2046168 , 0.7953832 ],\n",
       "        [0.44967282, 0.55032718],\n",
       "        ...,\n",
       "        [0.55970162, 0.44029838],\n",
       "        [0.01283952, 0.98716048],\n",
       "        [0.89779761, 0.10220239]]),\n",
       " 'extremely_harsh': array([[0.62711636, 0.37288364],\n",
       "        [0.65724107, 0.34275893],\n",
       "        [0.58968805, 0.41031195],\n",
       "        ...,\n",
       "        [0.70078714, 0.29921286],\n",
       "        [0.10909876, 0.89090124],\n",
       "        [0.82532377, 0.17467623]]),\n",
       " 'vulgar': array([[0.68903902, 0.31096098],\n",
       "        [0.56067921, 0.43932079],\n",
       "        [0.55451917, 0.44548083],\n",
       "        ...,\n",
       "        [0.64702773, 0.35297227],\n",
       "        [0.01110062, 0.98889938],\n",
       "        [0.87421604, 0.12578396]]),\n",
       " 'threatening': array([[0.81895059, 0.18104941],\n",
       "        [0.81547253, 0.18452747],\n",
       "        [0.81471916, 0.18528084],\n",
       "        ...,\n",
       "        [0.86377144, 0.13622856],\n",
       "        [0.63711443, 0.36288557],\n",
       "        [0.90750687, 0.09249313]]),\n",
       " 'disrespect': array([[0.65580743, 0.34419257],\n",
       "        [0.48154298, 0.51845702],\n",
       "        [0.48120845, 0.51879155],\n",
       "        ...,\n",
       "        [0.68851784, 0.31148216],\n",
       "        [0.01794512, 0.98205488],\n",
       "        [0.88212937, 0.11787063]]),\n",
       " 'targeted_hate': array([[0.85428705, 0.14571295],\n",
       "        [0.79816684, 0.20183316],\n",
       "        [0.76878442, 0.23121558],\n",
       "        ...,\n",
       "        [0.84919938, 0.15080062],\n",
       "        [0.39346485, 0.60653515],\n",
       "        [0.93991235, 0.06008765]])}"
      ]
     },
     "execution_count": 45,
     "metadata": {},
     "output_type": "execute_result"
    }
   ],
   "source": [
    "probs"
   ]
  },
  {
   "cell_type": "code",
   "execution_count": null,
   "id": "dc088213",
   "metadata": {},
   "outputs": [],
   "source": []
  }
 ],
 "metadata": {
  "kernelspec": {
   "display_name": "Python 3",
   "language": "python",
   "name": "python3"
  },
  "language_info": {
   "codemirror_mode": {
    "name": "ipython",
    "version": 3
   },
   "file_extension": ".py",
   "mimetype": "text/x-python",
   "name": "python",
   "nbconvert_exporter": "python",
   "pygments_lexer": "ipython3",
   "version": "3.7.10"
  }
 },
 "nbformat": 4,
 "nbformat_minor": 5
}
