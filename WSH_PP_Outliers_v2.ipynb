{
 "cells": [
  {
   "cell_type": "markdown",
   "id": "8b6fa712",
   "metadata": {},
   "source": [
    "## Group Name : PP Outliers\n",
    "## Project Name : Why So Harsh!\n",
    "## MT2022069 Parul Ghotikar\n",
    "## MT2022071 Parv Parikh"
   ]
  },
  {
   "cell_type": "markdown",
   "id": "257a9e88",
   "metadata": {},
   "source": [
    "IMPORTS Required"
   ]
  },
  {
   "cell_type": "code",
   "execution_count": 1,
   "id": "0ac254f6",
   "metadata": {},
   "outputs": [],
   "source": [
    "import numpy as np\n",
    "import pandas as pd\n",
    "\n",
    "import matplotlib.pyplot as plt\n",
    "import seaborn as sns\n",
    "\n",
    "import nltk\n",
    "from nltk.stem import WordNetLemmatizer\n",
    "\n",
    "import re\n",
    "from nltk.corpus import stopwords \n",
    "\n",
    "from sklearn.feature_extraction.text import TfidfVectorizer"
   ]
  },
  {
   "cell_type": "markdown",
   "id": "1fdf2981",
   "metadata": {},
   "source": [
    "reading datasets"
   ]
  },
  {
   "cell_type": "code",
   "execution_count": 2,
   "id": "aa82f851",
   "metadata": {
    "scrolled": true
   },
   "outputs": [
    {
     "name": "stdout",
     "output_type": "stream",
     "text": [
      "<class 'pandas.core.frame.DataFrame'>\n",
      "RangeIndex: 89359 entries, 0 to 89358\n",
      "Data columns (total 8 columns):\n",
      " #   Column           Non-Null Count  Dtype \n",
      "---  ------           --------------  ----- \n",
      " 0   id               89359 non-null  object\n",
      " 1   text             89359 non-null  object\n",
      " 2   harsh            89359 non-null  int64 \n",
      " 3   extremely_harsh  89359 non-null  int64 \n",
      " 4   vulgar           89359 non-null  int64 \n",
      " 5   threatening      89359 non-null  int64 \n",
      " 6   disrespect       89359 non-null  int64 \n",
      " 7   targeted_hate    89359 non-null  int64 \n",
      "dtypes: int64(6), object(2)\n",
      "memory usage: 5.5+ MB\n"
     ]
    }
   ],
   "source": [
    "data = pd.read_csv('train.csv')\n",
    "test = pd.read_csv('test.csv')\n",
    "data.info()"
   ]
  },
  {
   "cell_type": "markdown",
   "id": "d44701c1",
   "metadata": {},
   "source": [
    "# Data analysis"
   ]
  },
  {
   "cell_type": "code",
   "execution_count": 3,
   "id": "01755916",
   "metadata": {
    "scrolled": true
   },
   "outputs": [
    {
     "data": {
      "text/plain": [
       "harsh              8559\n",
       "extremely_harsh     917\n",
       "vulgar             4742\n",
       "threatening         268\n",
       "disrespect         4392\n",
       "targeted_hate       802\n",
       "dtype: int64"
      ]
     },
     "execution_count": 3,
     "metadata": {},
     "output_type": "execute_result"
    }
   ],
   "source": [
    "data_count=data.iloc[:,2:].sum()\n",
    "data_count"
   ]
  },
  {
   "cell_type": "code",
   "execution_count": 4,
   "id": "9df09729",
   "metadata": {},
   "outputs": [
    {
     "data": {
      "text/plain": [
       "0    0.904218\n",
       "1    0.095782\n",
       "Name: harsh, dtype: float64"
      ]
     },
     "execution_count": 4,
     "metadata": {},
     "output_type": "execute_result"
    }
   ],
   "source": [
    "# Shows the count of 0s and 1s  \n",
    "\n",
    "data.harsh.value_counts(normalize=True)"
   ]
  },
  {
   "cell_type": "code",
   "execution_count": 5,
   "id": "bd4e5e22",
   "metadata": {},
   "outputs": [
    {
     "data": {
      "text/plain": [
       "Index(['id', 'text', 'harsh', 'extremely_harsh', 'vulgar', 'threatening',\n",
       "       'disrespect', 'targeted_hate'],\n",
       "      dtype='object')"
      ]
     },
     "execution_count": 5,
     "metadata": {},
     "output_type": "execute_result"
    }
   ],
   "source": [
    "data.keys()"
   ]
  },
  {
   "cell_type": "code",
   "execution_count": 6,
   "id": "dd446b37",
   "metadata": {},
   "outputs": [
    {
     "data": {
      "text/plain": [
       "Index(['id', 'text'], dtype='object')"
      ]
     },
     "execution_count": 6,
     "metadata": {},
     "output_type": "execute_result"
    }
   ],
   "source": [
    "test.keys()"
   ]
  },
  {
   "cell_type": "markdown",
   "id": "82c6ceef",
   "metadata": {},
   "source": [
    "# Histogram plot for data analysis"
   ]
  },
  {
   "cell_type": "code",
   "execution_count": 56,
   "id": "baaa62f1",
   "metadata": {},
   "outputs": [
    {
     "data": {
      "text/plain": [
       "<AxesSubplot:>"
      ]
     },
     "execution_count": 56,
     "metadata": {},
     "output_type": "execute_result"
    },
    {
     "data": {
      "image/png": "[encoded data removed]",
      "text/plain": [
       "<Figure size 432x288 with 1 Axes>"
      ]
     },
     "metadata": {},
     "output_type": "display_data"
    }
   ],
   "source": [
    "data['harsh'].hist()"
   ]
  },
  {
   "cell_type": "code",
   "execution_count": 57,
   "id": "cceab1d6",
   "metadata": {},
   "outputs": [
    {
     "data": {
      "text/plain": [
       "<AxesSubplot:>"
      ]
     },
     "execution_count": 57,
     "metadata": {},
     "output_type": "execute_result"
    },
    {
     "data": {
      "image/png": "[encoded data removed]",
      "text/plain": [
       "<Figure size 432x288 with 1 Axes>"
      ]
     },
     "metadata": {},
     "output_type": "display_data"
    }
   ],
   "source": [
    "data['extremely_harsh'].hist()"
   ]
  },
  {
   "cell_type": "code",
   "execution_count": 58,
   "id": "11f12ee3",
   "metadata": {},
   "outputs": [
    {
     "data": {
      "text/plain": [
       "<AxesSubplot:>"
      ]
     },
     "execution_count": 58,
     "metadata": {},
     "output_type": "execute_result"
    },
    {
     "data": {
      "image/png": "[encoded data removed]",
      "text/plain": [
       "<Figure size 432x288 with 1 Axes>"
      ]
     },
     "metadata": {},
     "output_type": "display_data"
    }
   ],
   "source": [
    "data['vulgar'].hist()"
   ]
  },
  {
   "cell_type": "code",
   "execution_count": 59,
   "id": "d9f74066",
   "metadata": {},
   "outputs": [
    {
     "data": {
      "text/plain": [
       "<AxesSubplot:>"
      ]
     },
     "execution_count": 59,
     "metadata": {},
     "output_type": "execute_result"
    },
    {
     "data": {
      "image/png": "[encoded data removed]",
      "text/plain": [
       "<Figure size 432x288 with 1 Axes>"
      ]
     },
     "metadata": {},
     "output_type": "display_data"
    }
   ],
   "source": [
    "data['threatening'].hist()"
   ]
  },
  {
   "cell_type": "code",
   "execution_count": 60,
   "id": "500fa39f",
   "metadata": {},
   "outputs": [
    {
     "data": {
      "text/plain": [
       "<AxesSubplot:>"
      ]
     },
     "execution_count": 60,
     "metadata": {},
     "output_type": "execute_result"
    },
    {
     "data": {
      "image/png": "[encoded data removed]",
      "text/plain": [
       "<Figure size 432x288 with 1 Axes>"
      ]
     },
     "metadata": {},
     "output_type": "display_data"
    }
   ],
   "source": [
    "data['disrespect'].hist()"
   ]
  },
  {
   "cell_type": "code",
   "execution_count": 61,
   "id": "6aa2cd28",
   "metadata": {},
   "outputs": [
    {
     "data": {
      "text/plain": [
       "<AxesSubplot:>"
      ]
     },
     "execution_count": 61,
     "metadata": {},
     "output_type": "execute_result"
    },
    {
     "data": {
      "image/png": "[encoded data removed]",
      "text/plain": [
       "<Figure size 432x288 with 1 Axes>"
      ]
     },
     "metadata": {},
     "output_type": "display_data"
    }
   ],
   "source": [
    "data['targeted_hate'].hist()"
   ]
  },
  {
   "cell_type": "code",
   "execution_count": 62,
   "id": "b5ba5574",
   "metadata": {},
   "outputs": [
    {
     "data": {
      "text/plain": [
       "id                 0\n",
       "text               0\n",
       "harsh              0\n",
       "extremely_harsh    0\n",
       "vulgar             0\n",
       "threatening        0\n",
       "disrespect         0\n",
       "targeted_hate      0\n",
       "dtype: int64"
      ]
     },
     "execution_count": 62,
     "metadata": {},
     "output_type": "execute_result"
    }
   ],
   "source": [
    "# checks for is null values\n",
    "\n",
    "data.isnull().sum()"
   ]
  },
  {
   "cell_type": "code",
   "execution_count": 7,
   "id": "237ad1c1",
   "metadata": {},
   "outputs": [
    {
     "name": "stdout",
     "output_type": "stream",
     "text": [
      "Total comments =  89359\n",
      "clean comments =  80283\n",
      "comments with labels = 9076\n"
     ]
    }
   ],
   "source": [
    "# Calculating total of clean comments and comments with labels\n",
    "\n",
    "rowSum = data.iloc[:,2:].sum(axis=1)\n",
    "cleanComment = (rowSum==0).sum(axis=0)\n",
    "\n",
    "print(\"Total comments = \",len(data))\n",
    "print(\"clean comments = \",cleanComment)\n",
    "print(\"comments with labels =\",(len(data)-cleanComment))"
   ]
  },
  {
   "cell_type": "code",
   "execution_count": 64,
   "id": "7d54fec3",
   "metadata": {},
   "outputs": [
    {
     "name": "stdout",
     "output_type": "stream",
     "text": [
      "['id', 'text', 'harsh', 'extremely_harsh', 'vulgar', 'threatening', 'disrespect', 'targeted_hate']\n",
      "['harsh', 'extremely_harsh', 'vulgar', 'threatening', 'disrespect', 'targeted_hate']\n"
     ]
    }
   ],
   "source": [
    "cols = list(data.columns.values)\n",
    "print(cols)\n",
    "categories = cols[2:]\n",
    "print(categories)"
   ]
  },
  {
   "cell_type": "code",
   "execution_count": 65,
   "id": "03b5e7b2",
   "metadata": {
    "scrolled": true
   },
   "outputs": [
    {
     "data": {
      "text/html": [
       "<div>\n",
       "<style scoped>\n",
       "    .dataframe tbody tr th:only-of-type {\n",
       "        vertical-align: middle;\n",
       "    }\n",
       "\n",
       "    .dataframe tbody tr th {\n",
       "        vertical-align: top;\n",
       "    }\n",
       "\n",
       "    .dataframe thead th {\n",
       "        text-align: right;\n",
       "    }\n",
       "</style>\n",
       "<table border=\"1\" class=\"dataframe\">\n",
       "  <thead>\n",
       "    <tr style=\"text-align: right;\">\n",
       "      <th></th>\n",
       "      <th>category</th>\n",
       "      <th># comments</th>\n",
       "    </tr>\n",
       "  </thead>\n",
       "  <tbody>\n",
       "    <tr>\n",
       "      <th>0</th>\n",
       "      <td>harsh</td>\n",
       "      <td>8559</td>\n",
       "    </tr>\n",
       "    <tr>\n",
       "      <th>1</th>\n",
       "      <td>extremely_harsh</td>\n",
       "      <td>917</td>\n",
       "    </tr>\n",
       "    <tr>\n",
       "      <th>2</th>\n",
       "      <td>vulgar</td>\n",
       "      <td>4742</td>\n",
       "    </tr>\n",
       "    <tr>\n",
       "      <th>3</th>\n",
       "      <td>threatening</td>\n",
       "      <td>268</td>\n",
       "    </tr>\n",
       "    <tr>\n",
       "      <th>4</th>\n",
       "      <td>disrespect</td>\n",
       "      <td>4392</td>\n",
       "    </tr>\n",
       "    <tr>\n",
       "      <th>5</th>\n",
       "      <td>targeted_hate</td>\n",
       "      <td>802</td>\n",
       "    </tr>\n",
       "  </tbody>\n",
       "</table>\n",
       "</div>"
      ],
      "text/plain": [
       "          category  # comments\n",
       "0            harsh        8559\n",
       "1  extremely_harsh         917\n",
       "2           vulgar        4742\n",
       "3      threatening         268\n",
       "4       disrespect        4392\n",
       "5    targeted_hate         802"
      ]
     },
     "execution_count": 65,
     "metadata": {},
     "output_type": "execute_result"
    }
   ],
   "source": [
    "# counts comments in each category\n",
    "\n",
    "commentCount = []\n",
    "for category in categories:\n",
    "    commentCount.append((category, data[category].sum()))\n",
    "dfCommentCount = pd.DataFrame(commentCount, columns=['category', '# comments'])\n",
    "dfCommentCount"
   ]
  },
  {
   "cell_type": "code",
   "execution_count": 66,
   "id": "0084858d",
   "metadata": {},
   "outputs": [],
   "source": [
    "# Graph plot to visualize comments in each category"
   ]
  },
  {
   "cell_type": "code",
   "execution_count": 67,
   "id": "ed8ece9a",
   "metadata": {},
   "outputs": [
    {
     "name": "stderr",
     "output_type": "stream",
     "text": [
      "C:\\Users\\Asus\\Anaconda3\\lib\\site-packages\\seaborn\\_decorators.py:43: FutureWarning: Pass the following variables as keyword args: x, y. From version 0.12, the only valid positional argument will be `data`, and passing other arguments without an explicit keyword will result in an error or misinterpretation.\n",
      "  FutureWarning\n"
     ]
    },
    {
     "data": {
      "image/png": "[encoded data removed]",
      "text/plain": [
       "<Figure size 720x576 with 1 Axes>"
      ]
     },
     "metadata": {},
     "output_type": "display_data"
    }
   ],
   "source": [
    "sns.set(font_scale = 1)\n",
    "plt.figure(figsize=(10,8))\n",
    "\n",
    "ax= sns.barplot(categories, data.iloc[:,2:].sum().values, palette = \"Blues\")\n",
    "\n",
    "plt.title(\"Comments in each category\", fontsize=12)\n",
    "plt.ylabel('Number of comments', fontsize=12)\n",
    "plt.xlabel('Comment Type ', fontsize=12)\n",
    "\n",
    "#adding the text labels\n",
    "rects = ax.patches\n",
    "labels = data.iloc[:,2:].sum().values\n",
    "for rect, label in zip(rects, labels):\n",
    "    height = rect.get_height()\n",
    "    ax.text(rect.get_x() + rect.get_width()/2, height + 5, label, ha='center', va='bottom', fontsize=12)\n",
    "\n",
    "plt.show()"
   ]
  },
  {
   "cell_type": "code",
   "execution_count": 68,
   "id": "f16e8753",
   "metadata": {},
   "outputs": [],
   "source": [
    "# Graph plot to visualize the comments having multiple labels"
   ]
  },
  {
   "cell_type": "code",
   "execution_count": 69,
   "id": "0dd89d25",
   "metadata": {},
   "outputs": [
    {
     "name": "stderr",
     "output_type": "stream",
     "text": [
      "C:\\Users\\Asus\\Anaconda3\\lib\\site-packages\\seaborn\\_decorators.py:43: FutureWarning: Pass the following variables as keyword args: x, y. From version 0.12, the only valid positional argument will be `data`, and passing other arguments without an explicit keyword will result in an error or misinterpretation.\n",
      "  FutureWarning\n"
     ]
    },
    {
     "data": {
      "image/png": "[encoded data removed]",
      "text/plain": [
       "<Figure size 720x576 with 1 Axes>"
      ]
     },
     "metadata": {},
     "output_type": "display_data"
    }
   ],
   "source": [
    "multiLabelCount = data.iloc[:,2:].sum(axis=1).value_counts()\n",
    "\n",
    "multiLabelCount = multiLabelCount.iloc[1:]\n",
    "\n",
    "sns.set(font_scale = 1)\n",
    "plt.figure(figsize=(10,8))\n",
    "\n",
    "ax = sns.barplot(multiLabelCount.index, multiLabelCount.values, palette = \"Blues\")\n",
    "\n",
    "plt.title(\"Comments having multiple labels \")\n",
    "plt.ylabel('Number of comments', fontsize=12)\n",
    "plt.xlabel('Number of labels', fontsize=12)\n",
    "\n",
    "#adding the text labels\n",
    "rects = ax.patches\n",
    "labels = multiLabelCount.values\n",
    "for rect, label in zip(rects, labels):\n",
    "    height = rect.get_height()\n",
    "    ax.text(rect.get_x() + rect.get_width()/2, height + 2, label, ha='center', va='bottom')\n",
    "\n",
    "plt.show()"
   ]
  },
  {
   "cell_type": "markdown",
   "id": "f372b534",
   "metadata": {},
   "source": [
    "# Data PreProcessing"
   ]
  },
  {
   "cell_type": "code",
   "execution_count": 70,
   "id": "c669fc27",
   "metadata": {},
   "outputs": [],
   "source": [
    "import string\n",
    "\n",
    "# Data cleaning, it converts text data to lowercase, \n",
    "# removes html symbols newline whitespace numbers alphanumeric punctuations \n",
    "\n",
    "# at the end it cleans the data and we are left with only english words\n",
    "def dataCleaning(text):\n",
    "    text=text.lower()\n",
    "    htmlre = re.compile('<.*?>') #html\n",
    "    text = re.sub(htmlre, ' ', str(text))\n",
    "    text = re.sub(r'(.)\\1{2,}', r'\\1', text) \n",
    "    text = str(text).replace(\"\\n\", \" \") # new Line\n",
    "    text = re.sub(r'[^\\w\\s]',' ',text) # whitespace\n",
    "    text = re.sub('[0-9]',\"\",text) # numbers\n",
    "    text = re.sub(\" +\", \" \", text) # non english characters\n",
    "    text = re.sub('\\w*\\d\\w*', ' ', text) # alphanumeric\n",
    "    # '[%s]' % re.escape(string.punctuation),' ' - replace punctuation with white space\n",
    "    text = re.sub('[%s]' % re.escape(string.punctuation), ' ', text)\n",
    "    # non ascii\n",
    "    text = re.sub(\"([^\\x00-\\x7F])+\",\" \",text)\n",
    "    return text "
   ]
  },
  {
   "cell_type": "code",
   "execution_count": 71,
   "id": "f2d784ee",
   "metadata": {},
   "outputs": [],
   "source": [
    "data['text'] = data['text'].apply(dataCleaning)"
   ]
  },
  {
   "cell_type": "code",
   "execution_count": 72,
   "id": "e65a50d0",
   "metadata": {},
   "outputs": [],
   "source": [
    "test['text'] = test['text'].apply(dataCleaning)"
   ]
  },
  {
   "cell_type": "code",
   "execution_count": 73,
   "id": "f5d24186",
   "metadata": {},
   "outputs": [
    {
     "data": {
      "text/plain": [
       "' december utc i am interested not in arguing but in the policies which resolve our ongoing content dispute also see wikipedia wikiproject united states presidential elections for what i ll be working on also the moneybomb closer just self reverted on two different requests which echoed what i would have requested i will rephrase which i didn t see an answer to building on our agreement that moneybomb should not be a redlink given the deletion reversion what should be the outline of the article called moneybomb or should it be submitted for afd again in due time if the latter see the previous version of however this version will require a detailed answer because any ambiguity will only necessitate clarifying questions '"
      ]
     },
     "execution_count": 73,
     "metadata": {},
     "output_type": "execute_result"
    }
   ],
   "source": [
    "data['text'][0]"
   ]
  },
  {
   "cell_type": "code",
   "execution_count": 9,
   "id": "541eff61",
   "metadata": {},
   "outputs": [],
   "source": [
    "# separating columns in a specific data set for each label\n",
    "\n",
    "data_harsh = data.loc[:,['id','text','harsh']]\n",
    "data_extremely_harsh = data.loc[:,['id','text','extremely_harsh']]\n",
    "data_vulgar = data.loc[:,['id','text','vulgar']]\n",
    "data_threatening = data.loc[:,['id','text','threatening']]\n",
    "data_disrespect = data.loc[:,['id','text','disrespect']]\n",
    "data_targeted_hate = data.loc[:,['id','text','targeted_hate']]"
   ]
  },
  {
   "cell_type": "code",
   "execution_count": 10,
   "id": "791f14ac",
   "metadata": {},
   "outputs": [
    {
     "name": "stdout",
     "output_type": "stream",
     "text": [
      "0    80800\n",
      "1     8559\n",
      "Name: harsh, dtype: int64\n",
      "0    88442\n",
      "1      917\n",
      "Name: extremely_harsh, dtype: int64\n",
      "0    84617\n",
      "1     4742\n",
      "Name: vulgar, dtype: int64\n",
      "0    89091\n",
      "1      268\n",
      "Name: threatening, dtype: int64\n",
      "0    84967\n",
      "1     4392\n",
      "Name: disrespect, dtype: int64\n",
      "0    88557\n",
      "1      802\n",
      "Name: targeted_hate, dtype: int64\n"
     ]
    }
   ],
   "source": [
    "print(data_harsh.harsh.value_counts())\n",
    "print(data_extremely_harsh.extremely_harsh.value_counts())\n",
    "print(data_vulgar.vulgar.value_counts())\n",
    "print(data_threatening.threatening.value_counts())\n",
    "print(data_disrespect.disrespect.value_counts())\n",
    "print(data_targeted_hate.targeted_hate.value_counts())"
   ]
  },
  {
   "cell_type": "code",
   "execution_count": 76,
   "id": "9b1a3b56",
   "metadata": {},
   "outputs": [],
   "source": [
    "wordnetlemmatizer = WordNetLemmatizer()"
   ]
  },
  {
   "cell_type": "code",
   "execution_count": 77,
   "id": "7954bd66",
   "metadata": {},
   "outputs": [],
   "source": [
    "# function to perform lemmatization \n",
    "# it removes noun verb adjective and adverb and converts to meaningful base word\n",
    "\n",
    "def lemmatize(text):\n",
    "    output=\"\"\n",
    "    text=text.split(\" \")\n",
    "    for word in text:\n",
    "        word1 = wordnetlemmatizer.lemmatize(word, pos = \"n\") #noun\n",
    "        word2 = wordnetlemmatizer.lemmatize(word1, pos = \"v\") #verb\n",
    "        word3 = wordnetlemmatizer.lemmatize(word2, pos = \"a\") # adjective\n",
    "        word4 = wordnetlemmatizer.lemmatize(word3, pos = \"r\") #adverb\n",
    "        output=output + \" \" + word4\n",
    "  \n",
    "    return str(output.strip()) \n",
    "\n"
   ]
  },
  {
   "cell_type": "code",
   "execution_count": 78,
   "id": "274f8486",
   "metadata": {},
   "outputs": [],
   "source": [
    "data['text'] = data['text'].apply(lemmatize)\n",
    "test['text'] = test['text'].apply(lemmatize)"
   ]
  },
  {
   "cell_type": "markdown",
   "id": "07cb365d",
   "metadata": {},
   "source": [
    "# Removing stop words"
   ]
  },
  {
   "cell_type": "code",
   "execution_count": 29,
   "id": "49e059ae",
   "metadata": {},
   "outputs": [],
   "source": [
    "\n",
    "stopWords = set(stopwords.words('english'))\n",
    "\n",
    "stopWords.update(['december','january','february','march','april','may','june','august','september','october','november','july','please','within','good','know','thank','may','maybe','also','find','like','thing','time','want','around','would','below','across','among','beside','see','however','yet'])\n",
    "\n",
    "def removeStopWords(text):\n",
    "    text = ' '.join(word for word in text.split() if word not in stopWords)\n",
    "    return text\n",
    "\n",
    "data['text'] = data['text'].apply(removeStopWords)\n",
    "test['text'] = test['text'].apply(removeStopWords)"
   ]
  },
  {
   "cell_type": "markdown",
   "id": "af5a2f41",
   "metadata": {},
   "source": [
    "# Balancing data cols "
   ]
  },
  {
   "cell_type": "code",
   "execution_count": 11,
   "id": "b0900039",
   "metadata": {},
   "outputs": [
    {
     "data": {
      "text/plain": [
       "(10000, 3)"
      ]
     },
     "execution_count": 11,
     "metadata": {},
     "output_type": "execute_result"
    }
   ],
   "source": [
    "# trying to minimize the data in such a way that the ratio between 1s and 0s are at least 50:50 and if data for 1s is lesser then 20:80\n",
    "\n",
    "data_harsh_true = data_harsh[data_harsh['harsh'] == 1].iloc[0:5000,:]\n",
    "data_harsh_false = data_harsh[data_harsh['harsh'] == 0].iloc[0:5000,:]\n",
    "data_harsh_set = pd.concat([data_harsh_true, data_harsh_false], axis=0)\n",
    "data_harsh_set.shape"
   ]
  },
  {
   "cell_type": "code",
   "execution_count": 12,
   "id": "74c935a8",
   "metadata": {},
   "outputs": [
    {
     "data": {
      "text/plain": [
       "(1834, 3)"
      ]
     },
     "execution_count": 12,
     "metadata": {},
     "output_type": "execute_result"
    }
   ],
   "source": [
    "data_extremely_harsh_true = data_extremely_harsh[data_extremely_harsh['extremely_harsh'] == 1].iloc[0:917,:]\n",
    "data_extremely_harsh_false = data_extremely_harsh[data_extremely_harsh['extremely_harsh'] == 0].iloc[0:917,:]\n",
    "data_extremely_harsh_set = pd.concat([data_extremely_harsh_true, data_extremely_harsh_false], axis=0)\n",
    "data_extremely_harsh_set.shape"
   ]
  },
  {
   "cell_type": "code",
   "execution_count": 13,
   "id": "b27cd7c1",
   "metadata": {},
   "outputs": [
    {
     "data": {
      "text/plain": [
       "(9484, 3)"
      ]
     },
     "execution_count": 13,
     "metadata": {},
     "output_type": "execute_result"
    }
   ],
   "source": [
    "data_vulgar_true = data_vulgar[data_vulgar['vulgar'] == 1].iloc[0:4742,:]\n",
    "data_vulgar_false = data_vulgar[data_vulgar['vulgar'] == 0].iloc[0:4742,:]\n",
    "data_vulgar_set = pd.concat([data_vulgar_true, data_vulgar_false], axis=0)\n",
    "data_vulgar_set.shape"
   ]
  },
  {
   "cell_type": "code",
   "execution_count": 14,
   "id": "4d8d0f2f",
   "metadata": {},
   "outputs": [
    {
     "data": {
      "text/plain": [
       "(1340, 3)"
      ]
     },
     "execution_count": 14,
     "metadata": {},
     "output_type": "execute_result"
    }
   ],
   "source": [
    "data_threatening_true = data_threatening[data_threatening['threatening'] == 1].iloc[0:268,:]\n",
    "# We include 1072 comments that have no threat so that the data with threat (268) will represent 20% of the dataset.\n",
    "data_threatening_false = data_threatening[data_threatening['threatening'] == 0].iloc[0:1072,:]  \n",
    "data_threatening_set = pd.concat([data_threatening_true, data_threatening_false], axis=0)\n",
    "data_threatening_set.shape"
   ]
  },
  {
   "cell_type": "code",
   "execution_count": 15,
   "id": "b0033679",
   "metadata": {},
   "outputs": [
    {
     "data": {
      "text/plain": [
       "(8784, 3)"
      ]
     },
     "execution_count": 15,
     "metadata": {},
     "output_type": "execute_result"
    }
   ],
   "source": [
    "data_disrespect_true = data_disrespect[data_disrespect['disrespect'] == 1].iloc[0:4392,:]\n",
    "data_disrespect_false = data_disrespect[data_disrespect['disrespect'] == 0].iloc[0:4392,:]\n",
    "data_disrespect_set = pd.concat([data_disrespect_true, data_disrespect_false], axis=0)\n",
    "data_disrespect_set.shape"
   ]
  },
  {
   "cell_type": "code",
   "execution_count": 16,
   "id": "fa8fab72",
   "metadata": {},
   "outputs": [
    {
     "data": {
      "text/plain": [
       "(4010, 3)"
      ]
     },
     "execution_count": 16,
     "metadata": {},
     "output_type": "execute_result"
    }
   ],
   "source": [
    "data_targeted_hate_true = data_targeted_hate[data_targeted_hate['targeted_hate'] == 1].iloc[0:802,:] # 20%\n",
    "data_targeted_hate_false = data_targeted_hate[data_targeted_hate['targeted_hate'] == 0].iloc[0:3208,:] # 80%\n",
    "data_targeted_hate_set = pd.concat([data_targeted_hate_true, data_targeted_hate_false], axis=0)\n",
    "data_targeted_hate_set.shape"
   ]
  },
  {
   "cell_type": "markdown",
   "id": "5227f7f9",
   "metadata": {},
   "source": [
    "# model fitting"
   ]
  },
  {
   "cell_type": "code",
   "execution_count": 35,
   "id": "7815a799",
   "metadata": {},
   "outputs": [],
   "source": [
    "from sklearn import preprocessing\n",
    "from sklearn.feature_selection import SelectFromModel\n",
    "from sklearn.model_selection import train_test_split, KFold, cross_val_score\n",
    "from sklearn.metrics import f1_score, precision_score, recall_score, precision_recall_curve, fbeta_score, confusion_matrix\n",
    "from sklearn.metrics import roc_auc_score, roc_curve\n",
    "from sklearn.ensemble import RandomForestClassifier\n",
    "from sklearn.calibration import CalibratedClassifierCV\n",
    "from sklearn.svm import LinearSVC\n",
    "from sklearn.svm import SVC\n",
    "\n",
    "from sklearn.linear_model import LogisticRegression\n",
    "from sklearn.naive_bayes import MultinomialNB"
   ]
  },
  {
   "cell_type": "code",
   "execution_count": 36,
   "id": "4e2a457e",
   "metadata": {},
   "outputs": [],
   "source": [
    "def cv_tf_train_test(df_done,label,ngram):\n",
    "\n",
    "    X = df_done.text\n",
    "    y = df_done[label]\n",
    "    X_test = test['text']\n",
    "    cv1 = TfidfVectorizer(ngram_range=(ngram), stop_words='english')\n",
    "    X_train_cv1 = cv1.fit_transform(X) \n",
    "    X_test_cv1  = cv1.transform(X_test)  \n",
    "    uk_test_fit = cv1.transform(test['text'])\n",
    "    lr = LogisticRegression()\n",
    "    lr.fit(X_train_cv1, y)\n",
    "    ypredlr = lr.predict(X_test_cv1)\n",
    "    uk_prob = lr.predict_proba(uk_test_fit)\n",
    "    mnb = MultinomialNB()\n",
    "    mnb.fit(X_train_cv1, y)\n",
    "    ypredmnb = mnb.predict(X_test_cv1)\n",
    "    rfc = RandomForestClassifier(n_estimators = 10, criterion = 'entropy', random_state = 42)\n",
    "    rfc.fit(X_train_cv1, y)\n",
    "    ypredrfc = rfc.predict(X_test_cv1)\n",
    "    svm_model =SVC()\n",
    "    svm_model.fit(X_train_cv1,y)\n",
    "    ypredsvm = svm_model.predict(X_test_cv1)\n",
    "    \n",
    "    return ypredlr, ypredmnb, uk_prob,ypredrfc,ypredsvm,svm_model"
   ]
  },
  {
   "cell_type": "code",
   "execution_count": 37,
   "id": "8fed3f9e",
   "metadata": {},
   "outputs": [
    {
     "name": "stdout",
     "output_type": "stream",
     "text": [
      "*** harsh ***\n",
      "*** extremely_harsh ***\n",
      "*** vulgar ***\n",
      "*** threatening ***\n",
      "*** disrespect ***\n",
      "*** targeted_hate ***\n"
     ]
    }
   ],
   "source": [
    "cols=['harsh', 'extremely_harsh', 'vulgar', 'threatening','disrespect', 'targeted_hate']\n",
    "dones=[data_harsh_set,data_extremely_harsh_set,data_vulgar_set,data_threatening_set,data_disrespect_set,data_targeted_hate_set]\n",
    "cvs=[]\n",
    "probs={}\n",
    "ypredlr = {}\n",
    "ypredmnb = {}\n",
    "ypredrfc = {}\n",
    "ypredsvm = {}\n",
    "model = {}\n",
    "for i in range(len(cols)):    \n",
    "    print(\"***\",cols[i],\"***\")\n",
    "    ans=cv_tf_train_test(dones[i],cols[i], (1,1))\n",
    "    #cvs.append(ans[0])\n",
    "    ypredlr[cols[i]] = ans[0]\n",
    "    ypredmnb[cols[i]] = ans[1]\n",
    "    probs[cols[i]]=ans[2]\n",
    "    ypredrfc[cols[i]]=ans[3]\n",
    "    ypredsvm[cols[i]]=ans[4]\n",
    "    model[cols[i]]=ans[5]\n",
    "    #cvs[i].rename(columns={'F1 Score': 'F1 Score'}, inplace=True)\n",
    "\n",
    "\n",
    "#cvs"
   ]
  },
  {
   "cell_type": "code",
   "execution_count": 38,
   "id": "0abefacd",
   "metadata": {},
   "outputs": [
    {
     "data": {
      "text/plain": [
       "{'harsh': array([[0.51621496, 0.48378504],\n",
       "        [0.28483206, 0.71516794],\n",
       "        [0.39594632, 0.60405368],\n",
       "        ...,\n",
       "        [0.62754192, 0.37245808],\n",
       "        [0.00779283, 0.99220717],\n",
       "        [0.89356709, 0.10643291]]),\n",
       " 'extremely_harsh': array([[0.63802928, 0.36197072],\n",
       "        [0.71038454, 0.28961546],\n",
       "        [0.63403323, 0.36596677],\n",
       "        ...,\n",
       "        [0.74299034, 0.25700966],\n",
       "        [0.105302  , 0.894698  ],\n",
       "        [0.84640928, 0.15359072]]),\n",
       " 'vulgar': array([[0.70492413, 0.29507587],\n",
       "        [0.59105025, 0.40894975],\n",
       "        [0.55546072, 0.44453928],\n",
       "        ...,\n",
       "        [0.69291079, 0.30708921],\n",
       "        [0.00831724, 0.99168276],\n",
       "        [0.8996124 , 0.1003876 ]]),\n",
       " 'threatening': array([[0.8307897 , 0.1692103 ],\n",
       "        [0.84221562, 0.15778438],\n",
       "        [0.81366114, 0.18633886],\n",
       "        ...,\n",
       "        [0.88974405, 0.11025595],\n",
       "        [0.68345873, 0.31654127],\n",
       "        [0.92104571, 0.07895429]]),\n",
       " 'disrespect': array([[0.68490864, 0.31509136],\n",
       "        [0.45369911, 0.54630089],\n",
       "        [0.46746191, 0.53253809],\n",
       "        ...,\n",
       "        [0.72750199, 0.27249801],\n",
       "        [0.01064308, 0.98935692],\n",
       "        [0.89744375, 0.10255625]]),\n",
       " 'targeted_hate': array([[0.8574098 , 0.1425902 ],\n",
       "        [0.8317385 , 0.1682615 ],\n",
       "        [0.79034604, 0.20965396],\n",
       "        ...,\n",
       "        [0.86195492, 0.13804508],\n",
       "        [0.37614572, 0.62385428],\n",
       "        [0.94454924, 0.05545076]])}"
      ]
     },
     "execution_count": 38,
     "metadata": {},
     "output_type": "execute_result"
    }
   ],
   "source": [
    "probs"
   ]
  },
  {
   "cell_type": "code",
   "execution_count": 88,
   "id": "3c90090a",
   "metadata": {},
   "outputs": [
    {
     "data": {
      "text/plain": [
       "{'harsh': array([[0.5212756 , 0.4787244 ],\n",
       "        [0.17352733, 0.82647267],\n",
       "        [0.39386   , 0.60614   ],\n",
       "        ...,\n",
       "        [0.71127105, 0.28872895],\n",
       "        [0.00489006, 0.99510994],\n",
       "        [0.86843317, 0.13156683]]),\n",
       " 'extremely_harsh': array([[0.64367248, 0.35632752],\n",
       "        [0.66169203, 0.33830797],\n",
       "        [0.58640605, 0.41359395],\n",
       "        ...,\n",
       "        [0.73418695, 0.26581305],\n",
       "        [0.08422438, 0.91577562],\n",
       "        [0.84011879, 0.15988121]]),\n",
       " 'vulgar': array([[0.71193955, 0.28806045],\n",
       "        [0.39722127, 0.60277873],\n",
       "        [0.51589676, 0.48410324],\n",
       "        ...,\n",
       "        [0.75516859, 0.24483141],\n",
       "        [0.0048397 , 0.9951603 ],\n",
       "        [0.85884529, 0.14115471]]),\n",
       " 'threatening': array([[0.83298959, 0.16701041],\n",
       "        [0.86062658, 0.13937342],\n",
       "        [0.79438384, 0.20561616],\n",
       "        ...,\n",
       "        [0.89644112, 0.10355888],\n",
       "        [0.65656471, 0.34343529],\n",
       "        [0.91914176, 0.08085824]]),\n",
       " 'disrespect': array([[0.69079254, 0.30920746],\n",
       "        [0.30783955, 0.69216045],\n",
       "        [0.4547475 , 0.5452525 ],\n",
       "        ...,\n",
       "        [0.73236702, 0.26763298],\n",
       "        [0.00724812, 0.99275188],\n",
       "        [0.83382386, 0.16617614]]),\n",
       " 'targeted_hate': array([[0.85942774, 0.14057226],\n",
       "        [0.76923517, 0.23076483],\n",
       "        [0.7708687 , 0.2291313 ],\n",
       "        ...,\n",
       "        [0.89379962, 0.10620038],\n",
       "        [0.30527052, 0.69472948],\n",
       "        [0.92138045, 0.07861955]])}"
      ]
     },
     "execution_count": 88,
     "metadata": {},
     "output_type": "execute_result"
    }
   ],
   "source": [
    "probs"
   ]
  },
  {
   "cell_type": "code",
   "execution_count": 39,
   "id": "dc088213",
   "metadata": {},
   "outputs": [],
   "source": [
    "outputLr = pd.DataFrame({'id': test['id'],'harsh': ypredlr['harsh'], 'extremely_harsh': ypredlr['extremely_harsh'], 'vulgar': ypredlr['vulgar'], 'threatening': ypredlr['threatening'], 'disrespect': ypredlr['disrespect'], 'targeted_hate': ypredlr['targeted_hate']})"
   ]
  },
  {
   "cell_type": "code",
   "execution_count": 40,
   "id": "e7a4e0d7",
   "metadata": {},
   "outputs": [],
   "source": [
    "outputMnb = pd.DataFrame({'id': test['id'],'harsh': ypredmnb['harsh'], 'extremely_harsh': ypredmnb['extremely_harsh'], 'vulgar': ypredmnb['vulgar'], 'threatening': ypredmnb['threatening'], 'disrespect': ypredmnb['disrespect'], 'targeted_hate': ypredmnb['targeted_hate']})"
   ]
  },
  {
   "cell_type": "code",
   "execution_count": 41,
   "id": "13fc71b3",
   "metadata": {},
   "outputs": [],
   "source": [
    "outputRfc = pd.DataFrame({'id': test['id'],'harsh': ypredrfc['harsh'], 'extremely_harsh': ypredrfc['extremely_harsh'], 'vulgar': ypredrfc['vulgar'], 'threatening': ypredrfc['threatening'], 'disrespect': ypredrfc['disrespect'], 'targeted_hate': ypredrfc['targeted_hate']})"
   ]
  },
  {
   "cell_type": "code",
   "execution_count": 42,
   "id": "a07ba2ad",
   "metadata": {},
   "outputs": [],
   "source": [
    "outputSvc = pd.DataFrame({'id': test['id'],'harsh': ypredsvm['harsh'], 'extremely_harsh': ypredsvm['extremely_harsh'], 'vulgar': ypredsvm['vulgar'], 'threatening': ypredsvm['threatening'], 'disrespect': ypredsvm['disrespect'], 'targeted_hate': ypredsvm['targeted_hate']})"
   ]
  },
  {
   "cell_type": "code",
   "execution_count": 43,
   "id": "3850ee73",
   "metadata": {},
   "outputs": [],
   "source": [
    "outputLr.to_csv('submissionLr.csv', index = False)\n",
    "outputMnb.to_csv('submissionMnb.csv', index = False)\n",
    "outputRfc.to_csv('submissionRfc.csv', index = False)\n",
    "outputSvc.to_csv('1va_submissionSvc.csv', index = False)"
   ]
  },
  {
   "cell_type": "code",
   "execution_count": null,
   "id": "46b14ed2",
   "metadata": {},
   "outputs": [],
   "source": []
  },
  {
   "cell_type": "code",
   "execution_count": null,
   "id": "55bf8901",
   "metadata": {},
   "outputs": [],
   "source": []
  },
  {
   "cell_type": "code",
   "execution_count": 107,
   "id": "5599af3e",
   "metadata": {},
   "outputs": [],
   "source": []
  },
  {
   "cell_type": "code",
   "execution_count": null,
   "id": "a4dd7fe7",
   "metadata": {},
   "outputs": [],
   "source": []
  }
 ],
 "metadata": {
  "kernelspec": {
   "display_name": "Python 3",
   "language": "python",
   "name": "python3"
  },
  "language_info": {
   "codemirror_mode": {
    "name": "ipython",
    "version": 3
   },
   "file_extension": ".py",
   "mimetype": "text/x-python",
   "name": "python",
   "nbconvert_exporter": "python",
   "pygments_lexer": "ipython3",
   "version": "3.7.10"
  }
 },
 "nbformat": 4,
 "nbformat_minor": 5
}
