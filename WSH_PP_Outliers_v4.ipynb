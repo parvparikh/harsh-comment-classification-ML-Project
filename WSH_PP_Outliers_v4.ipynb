{
 "cells": [
  {
   "cell_type": "code",
   "execution_count": 29,
   "metadata": {
    "_cell_guid": "b1076dfc-b9ad-4769-8c92-a6c4dae69d19",
    "_uuid": "8f2839f25d086af736a60e9eeb907d3b93b6e0e5",
    "execution": {
     "iopub.execute_input": "2022-12-09T01:39:27.032234Z",
     "iopub.status.busy": "2022-12-09T01:39:27.031383Z",
     "iopub.status.idle": "2022-12-09T01:39:29.237271Z",
     "shell.execute_reply": "2022-12-09T01:39:29.236423Z",
     "shell.execute_reply.started": "2022-12-09T01:39:27.032124Z"
    }
   },
   "outputs": [],
   "source": [
    "import numpy as np\n",
    "import pandas as pd\n",
    "import regex as re\n",
    "import pickle\n",
    "import nltk\n",
    "import time\n",
    "\n",
    "from sklearn.feature_extraction.text import TfidfVectorizer\n",
    "from scipy.sparse import hstack\n",
    "from sklearn.linear_model import SGDClassifier\n",
    "from sklearn.linear_model import Ridge\n",
    "from sklearn.model_selection import cross_val_score"
   ]
  },
  {
   "cell_type": "code",
   "execution_count": 30,
   "metadata": {
    "execution": {
     "iopub.execute_input": "2022-12-09T01:39:29.241719Z",
     "iopub.status.busy": "2022-12-09T01:39:29.240705Z",
     "iopub.status.idle": "2022-12-09T01:39:29.656878Z",
     "shell.execute_reply": "2022-12-09T01:39:29.655559Z",
     "shell.execute_reply.started": "2022-12-09T01:39:29.241662Z"
    }
   },
   "outputs": [
    {
     "name": "stderr",
     "output_type": "stream",
     "text": [
      "[nltk_data] Downloading package punkt to\n",
      "[nltk_data]     C:\\Users\\Asus\\AppData\\Roaming\\nltk_data...\n",
      "[nltk_data]   Package punkt is already up-to-date!\n",
      "[nltk_data] Downloading package stopwords to\n",
      "[nltk_data]     C:\\Users\\Asus\\AppData\\Roaming\\nltk_data...\n",
      "[nltk_data]   Package stopwords is already up-to-date!\n",
      "[nltk_data] Downloading package words to\n",
      "[nltk_data]     C:\\Users\\Asus\\AppData\\Roaming\\nltk_data...\n",
      "[nltk_data]   Package words is already up-to-date!\n",
      "[nltk_data] Downloading package omw-1.4 to\n",
      "[nltk_data]     C:\\Users\\Asus\\AppData\\Roaming\\nltk_data...\n",
      "[nltk_data]   Package omw-1.4 is already up-to-date!\n"
     ]
    },
    {
     "data": {
      "text/plain": [
       "True"
      ]
     },
     "execution_count": 30,
     "metadata": {},
     "output_type": "execute_result"
    }
   ],
   "source": [
    "nltk.download('punkt')  \n",
    "nltk.download('stopwords')\n",
    "nltk.download('words')\n",
    "nltk.download('omw-1.4')"
   ]
  },
  {
   "cell_type": "code",
   "execution_count": 31,
   "metadata": {
    "execution": {
     "iopub.execute_input": "2022-12-09T01:39:36.198438Z",
     "iopub.status.busy": "2022-12-09T01:39:36.198059Z",
     "iopub.status.idle": "2022-12-09T01:39:37.724410Z",
     "shell.execute_reply": "2022-12-09T01:39:37.722289Z",
     "shell.execute_reply.started": "2022-12-09T01:39:36.198411Z"
    }
   },
   "outputs": [],
   "source": [
    "Start = time.time()\n",
    "train = pd.read_csv('train.csv').fillna(' ')\n",
    "test = pd.read_csv('test.csv').fillna(' ')"
   ]
  },
  {
   "cell_type": "code",
   "execution_count": 32,
   "metadata": {
    "execution": {
     "iopub.execute_input": "2022-12-09T01:39:37.727748Z",
     "iopub.status.busy": "2022-12-09T01:39:37.726362Z",
     "iopub.status.idle": "2022-12-09T01:40:19.279180Z",
     "shell.execute_reply": "2022-12-09T01:40:19.277359Z",
     "shell.execute_reply.started": "2022-12-09T01:39:37.727690Z"
    }
   },
   "outputs": [],
   "source": [
    "from nltk.stem import WordNetLemmatizer\n",
    "from nltk.corpus import stopwords\n",
    "\n",
    "lemmatizer = WordNetLemmatizer()\n",
    "w_tokenizer = nltk.tokenize.WhitespaceTokenizer()\n",
    "stopWords = stopwords.words('english')\n",
    "\n",
    "def lemmatize_text(text):\n",
    "    return [lemmatizer.lemmatize(w) for w in w_tokenizer.tokenize(text)]\n",
    "\n",
    "train_text = train[\"text\"]\n",
    "test_text = test[\"text\"]\n",
    "train_text = train_text.apply(lemmatize_text) \n",
    "test_text = test_text.apply(lemmatize_text)\n",
    "train_text = train_text.apply(lambda x: ' '.join(([word for word in x])))\n",
    "test_text = test_text.apply(lambda x: ' '.join(([word for word in x])))\n",
    "train[\"text\"] = train_text\n",
    "test[\"text\"] = test_text\n",
    "del train_text, test_text"
   ]
  },
  {
   "cell_type": "code",
   "execution_count": 33,
   "metadata": {
    "execution": {
     "iopub.execute_input": "2022-12-09T01:40:19.281957Z",
     "iopub.status.busy": "2022-12-09T01:40:19.281485Z",
     "iopub.status.idle": "2022-12-09T01:40:33.083619Z",
     "shell.execute_reply": "2022-12-09T01:40:33.082367Z",
     "shell.execute_reply.started": "2022-12-09T01:40:19.281919Z"
    }
   },
   "outputs": [],
   "source": [
    "temporary_training_data = []\n",
    "temporary_testing_data = []\n",
    "train_comments_list = train[\"text\"].tolist()\n",
    "test_comments_list = test[\"text\"].tolist()\n",
    "\n",
    "sensibleWords = {\n",
    "    \":')\": \" sad \",\n",
    "    \":-(\": \" sad \",\n",
    "    \":(\": \" sad \",\n",
    "    \":s\": \" sad \",\n",
    "    \":-s\": \" sad \",\n",
    "    \":-(\": \" frown \",\n",
    "    \":(\": \" frown \",\n",
    "    \":s\": \" frown \",\n",
    "    \":-s\": \" frown \",\n",
    "    \":/\": \" bad \",\n",
    "    \":>\": \" sad \",\n",
    "    \":')\": \" sad \",\n",
    "    \"<3\": \" heart \",\n",
    "    \":/\": \" worry \",\n",
    "    \":>\": \" angry \",\n",
    "    \"yay!\": \" good \",\n",
    "    \"yay\": \" good \",\n",
    "    \"yaay\": \" good \",\n",
    "    \"yaaay\": \" good \",\n",
    "    \"yaaaay\": \" good \",\n",
    "    \"yaaaaay\": \" good \",\n",
    "    \"m\": \"am\",\n",
    "    \"r\": \"are\",\n",
    "    \"u\": \"you\",\n",
    "    \"haha\": \"ha\",\n",
    "    \"hahaha\": \"ha\",\n",
    "    \"don't\": \"do not\",\n",
    "    \"haven't\": \"have not\",\n",
    "    \"hadn't\": \"had not\",\n",
    "    \"won't\": \"will not\",\n",
    "    \"wouldn't\": \"would not\",\n",
    "    \"can't\": \"can not\",\n",
    "    \"cannot\": \"can not\",\n",
    "    \"i'm\": \"i am\",\n",
    "    \"m\": \"am\",\n",
    "    \"i'll\" : \"i will\",\n",
    "    \"its\" : \"it is\",\n",
    "    \"it's\" : \"it is\",\n",
    "    \"'s\" : \" is\",\n",
    "    \"that's\" : \"that is\",\n",
    "    \"weren't\" : \"were not\",\n",
    "    \"doesn't\": \"does not\",\n",
    "    \"didn't\": \"did not\",\n",
    "    \"hasn't\": \"has not\",\n",
    "    \":d\": \" smile \",\n",
    "    \":p\": \" smile \",\n",
    "    \":dd\": \" smile \",\n",
    "    \"8)\": \" smile \",\n",
    "    \":-)\": \" smile \",\n",
    "    \":)\": \" smile \",\n",
    "    \";)\": \" smile \",\n",
    "    \"(-:\": \" smile \",\n",
    "    \"(:\": \" smile \",\n",
    "    r\"\\br\\b\": \"are\",\n",
    "    r\"\\bu\\b\": \"you\",\n",
    "    r\"\\bhaha\\b\": \"ha\",\n",
    "    r\"\\bhahaha\\b\": \"ha\",\n",
    "    r\"\\bdon't\\b\": \"do not\",\n",
    "    r\"\\bdoesn't\\b\": \"does not\",\n",
    "    r\"\\bdidn't\\b\": \"did not\",\n",
    "    r\"\\bhasn't\\b\": \"has not\",\n",
    "    r\"\\bhaven't\\b\": \"have not\",\n",
    "    r\"\\bhadn't\\b\": \"had not\",\n",
    "    r\"\\bwon't\\b\": \"will not\",\n",
    "    r\"\\bwouldn't\\b\": \"would not\",\n",
    "    r\"\\bcan't\\b\": \"can not\",\n",
    "    r\"\\bcannot\\b\": \"can not\",\n",
    "    r\"\\bi'm\\b\": \"i am\",\n",
    "}\n",
    "\n",
    "nonsenseWords = [word for word in sensibleWords.keys()] \n",
    "\n",
    "for comment in train_comments_list:\n",
    "    words = str(comment).split()\n",
    "    sentense = \"\"\n",
    "    for word in words:\n",
    "        if word[:4] == 'http' or word[:3] == 'www': \n",
    "            continue                             \n",
    "        if word in nonsenseWords:\n",
    "            word = sensibleWords[word]\n",
    "        sentense += word + \" \" \n",
    "    temporary_training_data.append(sentense)\n",
    "\n",
    "for comment in test_comments_list:\n",
    "    words = str(comment).split()\n",
    "    sentense = \"\"\n",
    "    for word in words:\n",
    "        if word[:4] == 'http' or word[:3] == 'www':  \n",
    "            continue                              \n",
    "        if word in nonsenseWords:\n",
    "            word = sensibleWords[word]\n",
    "        sentense += word + \" \"  \n",
    "    temporary_testing_data.append(sentense)\n",
    "\n",
    "\n",
    "for i, c in enumerate(temporary_training_data):\n",
    "    temporary_training_data[i] = re.sub('[^a-zA-Z ?!]+', '', temporary_training_data[i])\n",
    "\n",
    "for i, c in enumerate(temporary_testing_data):\n",
    "    temporary_testing_data[i] = re.sub('[^a-zA-Z ?!]+', '', temporary_testing_data[i]) \n",
    "    \n",
    "train[\"text\"] = temporary_training_data\n",
    "test[\"text\"] = temporary_testing_data\n",
    "del temporary_training_data, temporary_testing_data\n"
   ]
  },
  {
   "cell_type": "code",
   "execution_count": 34,
   "metadata": {
    "execution": {
     "iopub.execute_input": "2022-12-09T01:40:33.085355Z",
     "iopub.status.busy": "2022-12-09T01:40:33.084955Z",
     "iopub.status.idle": "2022-12-09T01:40:33.095102Z",
     "shell.execute_reply": "2022-12-09T01:40:33.093827Z",
     "shell.execute_reply.started": "2022-12-09T01:40:33.085317Z"
    }
   },
   "outputs": [],
   "source": [
    "train_text = train[\"text\"]\n",
    "test_text = test[\"text\"]\n",
    "complete_text = pd.concat([train[\"text\"], test[\"text\"]]) "
   ]
  },
  {
   "cell_type": "code",
   "execution_count": 35,
   "metadata": {
    "execution": {
     "iopub.execute_input": "2022-12-09T01:40:33.097766Z",
     "iopub.status.busy": "2022-12-09T01:40:33.097443Z",
     "iopub.status.idle": "2022-12-09T01:41:05.994081Z",
     "shell.execute_reply": "2022-12-09T01:41:05.992929Z",
     "shell.execute_reply.started": "2022-12-09T01:40:33.097729Z"
    }
   },
   "outputs": [],
   "source": [
    "word_vectorizer = TfidfVectorizer(\n",
    "    sublinear_tf = True, \n",
    "    strip_accents = 'unicode',\n",
    "    analyzer = 'word',\n",
    "    token_pattern = '(?u)\\\\b\\\\w\\\\w+\\\\b\\\\w{,1}',\n",
    "    lowercase = False, \n",
    "    stop_words = 'english',  \n",
    "    ngram_range = (1, 2), \n",
    "    min_df = 2,\n",
    "    max_df = 0.5,\n",
    "    norm = 'l2',\n",
    "    max_features = 30000\n",
    ") \n",
    "word_vectorizer.fit(complete_text) \n",
    "train_word_features = word_vectorizer.transform(train_text)\n",
    "test_word_features = word_vectorizer.transform(test_text)\n"
   ]
  },
  {
   "cell_type": "code",
   "execution_count": 36,
   "metadata": {
    "execution": {
     "iopub.execute_input": "2022-12-09T01:41:05.995675Z",
     "iopub.status.busy": "2022-12-09T01:41:05.995362Z",
     "iopub.status.idle": "2022-12-09T01:47:42.414011Z",
     "shell.execute_reply": "2022-12-09T01:47:42.412636Z",
     "shell.execute_reply.started": "2022-12-09T01:41:05.995642Z"
    }
   },
   "outputs": [],
   "source": [
    "char_vectorizer = TfidfVectorizer (\n",
    "    sublinear_tf = True,\n",
    "    strip_accents = 'unicode', \n",
    "    analyzer = 'char',\n",
    "    ngram_range = (2, 6), \n",
    "    min_df = 2, \n",
    "    max_df = 0.5,\n",
    "    max_features = 20000\n",
    ")\n",
    "char_vectorizer.fit(complete_text) \n",
    "train_char_features = char_vectorizer.transform(train_text)\n",
    "test_char_features = char_vectorizer.transform(test_text)"
   ]
  },
  {
   "cell_type": "code",
   "execution_count": 37,
   "metadata": {
    "execution": {
     "iopub.execute_input": "2022-12-09T01:47:42.415870Z",
     "iopub.status.busy": "2022-12-09T01:47:42.415432Z",
     "iopub.status.idle": "2022-12-09T01:47:44.000665Z",
     "shell.execute_reply": "2022-12-09T01:47:43.998578Z",
     "shell.execute_reply.started": "2022-12-09T01:47:42.415827Z"
    }
   },
   "outputs": [],
   "source": [
    "train_features = hstack([train_char_features, train_word_features]) \n",
    "test_features = hstack([test_char_features, test_word_features])\n"
   ]
  },
  {
   "cell_type": "code",
   "execution_count": 38,
   "metadata": {
    "execution": {
     "iopub.execute_input": "2022-12-09T01:47:44.003089Z",
     "iopub.status.busy": "2022-12-09T01:47:44.002537Z",
     "iopub.status.idle": "2022-12-09T01:47:51.841495Z",
     "shell.execute_reply": "2022-12-09T01:47:51.839821Z",
     "shell.execute_reply.started": "2022-12-09T01:47:44.003041Z"
    }
   },
   "outputs": [],
   "source": [
    "categories = ['harsh', 'extremely_harsh', 'vulgar', 'threatening', 'disrespect', 'targeted_hate']\n",
    "temp = train_features.tocsr()\n",
    "\n"
   ]
  },
  {
   "cell_type": "code",
   "execution_count": 39,
   "metadata": {
    "execution": {
     "iopub.execute_input": "2022-12-08T12:18:05.896380Z",
     "iopub.status.busy": "2022-12-08T12:18:05.895960Z"
    }
   },
   "outputs": [],
   "source": []
  },
  {
   "cell_type": "code",
   "execution_count": 50,
   "metadata": {
    "execution": {
     "iopub.execute_input": "2022-12-09T01:47:51.843328Z",
     "iopub.status.busy": "2022-12-09T01:47:51.842982Z",
     "iopub.status.idle": "2022-12-09T01:51:43.305126Z",
     "shell.execute_reply": "2022-12-09T01:51:43.302906Z",
     "shell.execute_reply.started": "2022-12-09T01:47:51.843299Z"
    }
   },
   "outputs": [
    {
     "name": "stdout",
     "output_type": "stream",
     "text": [
      "Cross Validation score is 0.9826927602412847\n"
     ]
    }
   ],
   "source": [
    "cross_validation_scores = []\n",
    "model_storage = open('model_storage.pckl', 'wb')\n",
    "\n",
    "for category in categories:\n",
    "    train_target = train[category]\n",
    "    ridgeClassifier = Ridge(solver = 'sag', max_iter = 50, fit_intercept = True, tol = 0.001, alpha = 70, copy_X = True, random_state = 0)\n",
    "    cv_score = np.mean(cross_val_score(ridgeClassifier, train_features, train_target, cv = 50, scoring = 'roc_auc'))\n",
    "    cross_validation_scores.append(cv_score)\n",
    "    ridgeClassifier.fit(train_features, train_target)\n",
    "    pickle.dump(ridgeClassifier, model_storage)\n",
    "\n",
    "model_storage.close()\n",
    "print('Cross Validation score is {}'.format(np.mean(cross_validation_scores)))"
   ]
  },
  {
   "cell_type": "code",
   "execution_count": 46,
   "metadata": {
    "execution": {
     "iopub.execute_input": "2022-12-09T02:27:13.055919Z",
     "iopub.status.busy": "2022-12-09T02:27:13.055506Z",
     "iopub.status.idle": "2022-12-09T02:27:14.412558Z",
     "shell.execute_reply": "2022-12-09T02:27:14.410981Z",
     "shell.execute_reply.started": "2022-12-09T02:27:13.055884Z"
    }
   },
   "outputs": [
    {
     "name": "stdout",
     "output_type": "stream",
     "text": [
      "Time of execution: 192.60360910495123 minutes\n"
     ]
    }
   ],
   "source": [
    "Output = pd.DataFrame.from_dict({'id': test['id']})\n",
    "models = []\n",
    "\n",
    "with open(\"model_storage.pckl\", \"rb\") as file:\n",
    "    while True:\n",
    "        try:\n",
    "            models.append(pickle.load(file))\n",
    "        except EOFError:\n",
    "            break\n",
    "\n",
    "i=0  \n",
    "for category in categories:\n",
    "    train_target = train[category]\n",
    "    Output[category] = models[i].predict(test_features)\n",
    "    i=i+1\n",
    "\n",
    "Output.to_csv('FinalSubmission.csv', index = False)\n",
    "\n",
    "End = time.time()\n",
    "print('Time of execution: {} minutes'.format((End - Start) / 60)) "
   ]
  },
  {
   "cell_type": "code",
   "execution_count": 8,
   "metadata": {},
   "outputs": [],
   "source": []
  },
  {
   "cell_type": "code",
   "execution_count": null,
   "metadata": {},
   "outputs": [],
   "source": []
  },
  {
   "cell_type": "code",
   "execution_count": null,
   "metadata": {},
   "outputs": [],
   "source": []
  },
  {
   "cell_type": "code",
   "execution_count": null,
   "metadata": {},
   "outputs": [],
   "source": []
  },
  {
   "cell_type": "code",
   "execution_count": null,
   "metadata": {},
   "outputs": [],
   "source": []
  }
 ],
 "metadata": {
  "kernelspec": {
   "display_name": "Python 3",
   "language": "python",
   "name": "python3"
  },
  "language_info": {
   "codemirror_mode": {
    "name": "ipython",
    "version": 3
   },
   "file_extension": ".py",
   "mimetype": "text/x-python",
   "name": "python",
   "nbconvert_exporter": "python",
   "pygments_lexer": "ipython3",
   "version": "3.7.10"
  }
 },
 "nbformat": 4,
 "nbformat_minor": 4
}
